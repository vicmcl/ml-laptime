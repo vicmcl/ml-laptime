{
  "cells": [
    {
      "cell_type": "markdown",
      "metadata": {
        "id": "view-in-github",
        "colab_type": "text"
      },
      "source": [
        "<a href=\"https://colab.research.google.com/github/vicmcl/ml-laptime/blob/main/ml_laptime/notebook/train.ipynb\" target=\"_parent\"><img src=\"https://colab.research.google.com/assets/colab-badge.svg\" alt=\"Open In Colab\"/></a>"
      ]
    },
    {
      "cell_type": "code",
      "execution_count": 2,
      "metadata": {
        "id": "wmlNQe3BVS0a"
      },
      "outputs": [],
      "source": [
        "from pathlib import Path\n",
        "import os\n",
        "import glob\n",
        "import seaborn as sns\n",
        "\n",
        "import pandas as pd\n",
        "import pickle"
      ]
    },
    {
      "cell_type": "code",
      "execution_count": 3,
      "metadata": {
        "id": "cGenhBFjVS0c",
        "outputId": "b87b9977-d856-466a-8f6f-1a61ecc89495",
        "colab": {
          "base_uri": "https://localhost:8080/"
        }
      },
      "outputs": [
        {
          "output_type": "stream",
          "name": "stdout",
          "text": [
            "Mounted at /content/drive\n"
          ]
        }
      ],
      "source": [
        "# Mount Drive\n",
        "from google.colab import drive\n",
        "\n",
        "drive.flush_and_unmount()\n",
        "drive.mount('/content/drive')\n",
        "DRIVE_PATH = Path(\"/content/drive/MyDrive/\")\n",
        "ML_PATH = DRIVE_PATH / \"Projects\" / \"laptime-simulation\""
      ]
    },
    {
      "cell_type": "code",
      "source": [
        "data_path = glob.glob(str(ML_PATH / \"races*.pkl\"))"
      ],
      "metadata": {
        "id": "3XVKIZQTZAxf"
      },
      "execution_count": 4,
      "outputs": []
    },
    {
      "cell_type": "code",
      "source": [
        "pip install -q fastf1"
      ],
      "metadata": {
        "id": "U6koeM0VZPOy"
      },
      "execution_count": 5,
      "outputs": []
    },
    {
      "cell_type": "code",
      "source": [
        "data_path"
      ],
      "metadata": {
        "colab": {
          "base_uri": "https://localhost:8080/"
        },
        "id": "0kby4SUaaQy-",
        "outputId": "10c17bee-a323-4f1b-9273-72b64d960440"
      },
      "execution_count": 6,
      "outputs": [
        {
          "output_type": "execute_result",
          "data": {
            "text/plain": [
              "['/content/drive/MyDrive/Projects/laptime-simulation/races_2021.pkl',\n",
              " '/content/drive/MyDrive/Projects/laptime-simulation/races_2020.pkl',\n",
              " '/content/drive/MyDrive/Projects/laptime-simulation/races_2019.pkl']"
            ]
          },
          "metadata": {},
          "execution_count": 6
        }
      ]
    },
    {
      "cell_type": "code",
      "source": [
        "data = {}\n",
        "with open(data_path[0], \"rb\") as f:\n",
        "    data[2021] = pickle.load(f)"
      ],
      "metadata": {
        "id": "uLlbdzOwZFqi"
      },
      "execution_count": 7,
      "outputs": []
    },
    {
      "cell_type": "code",
      "source": [
        "with open(data_path[1], \"rb\") as f:\n",
        "    data[2020] = pickle.load(f)"
      ],
      "metadata": {
        "id": "iasZd-5xblB3"
      },
      "execution_count": 8,
      "outputs": []
    },
    {
      "cell_type": "code",
      "source": [
        "with open(data_path[2], \"rb\") as f:\n",
        "    data[2019] = pickle.load(f)"
      ],
      "metadata": {
        "id": "fe790r2RbsSt"
      },
      "execution_count": 9,
      "outputs": []
    },
    {
      "cell_type": "code",
      "source": [
        "session_2019 = data[2019]['Abu Dhabi Grand Prix']\n",
        "session_2020 = data[2020]['Abu Dhabi Grand Prix']\n",
        "session_2021 = data[2021]['Abu Dhabi Grand Prix']"
      ],
      "metadata": {
        "id": "vZCXeNhtZlOk"
      },
      "execution_count": 10,
      "outputs": []
    },
    {
      "cell_type": "code",
      "source": [
        "columns_laps = [\n",
        "    'Time', 'LapNumber', 'Stint', 'SpeedI1', 'SpeedI2', 'SpeedFL', 'SpeedST',\n",
        "    'Compound', 'TyreLife', 'LapTime'\n",
        "]\n",
        "\n",
        "columns_telemetry = ['SessionTime', 'Throttle', 'Brake', 'DRS']\n",
        "\n",
        "columns_weather = ['Time', 'TrackTemp', 'WindSpeed']\n",
        "\n",
        "compound_map = {\n",
        "    'SOFT': 1.0,\n",
        "    'MEDIUM': 2.0,\n",
        "    'HARD': 3.0\n",
        "}"
      ],
      "metadata": {
        "id": "noxkFQJtjyA0"
      },
      "execution_count": 57,
      "outputs": []
    },
    {
      "cell_type": "code",
      "source": [
        "def process_lap_data(gp, year):\n",
        "    laps_data = data[year][gp]['laps'][columns_laps].copy()\n",
        "    laps_data['Season'] = year\n",
        "    laps_data = laps_data.reset_index().drop('index', axis=1)\n",
        "    laps_data['Compound'] = laps_data['Compound'].map(lambda x: compound_map.get(x, 0.0))\n",
        "    return laps_data"
      ],
      "metadata": {
        "id": "CHu8n406xaGn"
      },
      "execution_count": 58,
      "outputs": []
    },
    {
      "cell_type": "code",
      "source": [
        "def map_drs(drs):\n",
        "    if drs >= 10:\n",
        "        return True\n",
        "    else:\n",
        "        return False\n",
        "\n",
        "def process_telemetry_data(gp, year, laps):\n",
        "    telemetry_data = data[year][gp]['telemetry'][columns_telemetry].copy()\n",
        "    telemetry_with_laps = pd.merge_asof(\n",
        "        telemetry_data,\n",
        "        laps[['Time', 'LapNumber']],\n",
        "        left_on='SessionTime',\n",
        "        right_on='Time',\n",
        "        direction='forward'\n",
        "    ).drop('Time', axis=1)\n",
        "    telemetry_with_laps.loc[:, 'DRS'] = telemetry_with_laps['DRS'].map(map_drs)\n",
        "    telemetry_avg = telemetry_with_laps.groupby('LapNumber').mean()\n",
        "    return telemetry_avg"
      ],
      "metadata": {
        "id": "_rNbKG-R0RYA"
      },
      "execution_count": 89,
      "outputs": []
    },
    {
      "cell_type": "code",
      "source": [
        "def process_weather_data(gp, year):\n",
        "    weather_data = data[year][gp]['weather'][columns_weather].copy()\n",
        "    return weather_data"
      ],
      "metadata": {
        "id": "-kKzKlCt-vOO"
      },
      "execution_count": 72,
      "outputs": []
    },
    {
      "cell_type": "code",
      "source": [
        "def merge_data(laps, weather, telemetry):\n",
        "    merged_data = pd.merge_asof(laps, weather, on='Time', direction='nearest').set_index('LapNumber').drop('Time', axis=1)\n",
        "    merged_data = pd.concat([merged_data, telemetry], axis=1).reset_index()\n",
        "    merged_data = merged_data.drop('SessionTime', axis=1)\n",
        "    merged_data.loc[:, 'LapTime'] = merged_data['LapTime'].map(lambda x: x.total_seconds())\n",
        "    return merged_data"
      ],
      "metadata": {
        "id": "xceeFROu_dzg"
      },
      "execution_count": 85,
      "outputs": []
    },
    {
      "cell_type": "code",
      "source": [
        "def preprocess_data(gp, year):\n",
        "    laps = process_lap_data(gp, year)\n",
        "    weather = process_weather_data(gp, year)\n",
        "    telemetry = process_telemetry_data(gp, year, laps)\n",
        "    merged_data = merge_data(laps, weather, telemetry)\n",
        "    return merged_data"
      ],
      "metadata": {
        "id": "ty-tG8O9sE41"
      },
      "execution_count": 90,
      "outputs": []
    },
    {
      "cell_type": "code",
      "source": [
        "prepro = preprocess_data('Abu Dhabi Grand Prix', 2021)"
      ],
      "metadata": {
        "id": "_0LVCCq965j_"
      },
      "execution_count": 87,
      "outputs": []
    },
    {
      "cell_type": "code",
      "source": [
        "prepro.head()"
      ],
      "metadata": {
        "colab": {
          "base_uri": "https://localhost:8080/",
          "height": 206
        },
        "id": "S3syklC2AYOv",
        "outputId": "4bce668e-c746-4628-b374-7b699949c734"
      },
      "execution_count": 88,
      "outputs": [
        {
          "output_type": "execute_result",
          "data": {
            "text/plain": [
              "   LapNumber  Stint  SpeedI1  SpeedI2  SpeedFL  SpeedST  Compound  TyreLife  \\\n",
              "0        1.0    1.0    296.0    249.0    295.0    214.0       2.0       1.0   \n",
              "1        2.0    1.0    297.0    246.0    296.0    280.0       2.0       2.0   \n",
              "2        3.0    1.0    301.0    250.0    298.0    285.0       2.0       3.0   \n",
              "3        4.0    1.0      NaN    241.0    298.0    284.0       2.0       4.0   \n",
              "4        5.0    1.0    303.0    244.0    299.0    287.0       2.0       5.0   \n",
              "\n",
              "   LapTime  Season  TrackTemp  WindSpeed   Throttle     Brake  DRS  \n",
              "0   78.399    2021       52.1        0.5  65.327007  0.207299  0.0  \n",
              "1   74.680    2021       51.8        0.4  64.527692  0.190769  0.0  \n",
              "2   74.471    2021       51.7        0.8  64.089231  0.200000  0.0  \n",
              "3   74.713    2021       51.9        0.5  62.656394  0.192604  0.0  \n",
              "4   74.660    2021       51.9        0.5  63.229584  0.195686  0.0  "
            ],
            "text/html": [
              "\n",
              "  <div id=\"df-8b79a9b9-386a-49ad-8e2e-a9abc072c719\" class=\"colab-df-container\">\n",
              "    <div>\n",
              "<style scoped>\n",
              "    .dataframe tbody tr th:only-of-type {\n",
              "        vertical-align: middle;\n",
              "    }\n",
              "\n",
              "    .dataframe tbody tr th {\n",
              "        vertical-align: top;\n",
              "    }\n",
              "\n",
              "    .dataframe thead th {\n",
              "        text-align: right;\n",
              "    }\n",
              "</style>\n",
              "<table border=\"1\" class=\"dataframe\">\n",
              "  <thead>\n",
              "    <tr style=\"text-align: right;\">\n",
              "      <th></th>\n",
              "      <th>LapNumber</th>\n",
              "      <th>Stint</th>\n",
              "      <th>SpeedI1</th>\n",
              "      <th>SpeedI2</th>\n",
              "      <th>SpeedFL</th>\n",
              "      <th>SpeedST</th>\n",
              "      <th>Compound</th>\n",
              "      <th>TyreLife</th>\n",
              "      <th>LapTime</th>\n",
              "      <th>Season</th>\n",
              "      <th>TrackTemp</th>\n",
              "      <th>WindSpeed</th>\n",
              "      <th>Throttle</th>\n",
              "      <th>Brake</th>\n",
              "      <th>DRS</th>\n",
              "    </tr>\n",
              "  </thead>\n",
              "  <tbody>\n",
              "    <tr>\n",
              "      <th>0</th>\n",
              "      <td>1.0</td>\n",
              "      <td>1.0</td>\n",
              "      <td>296.0</td>\n",
              "      <td>249.0</td>\n",
              "      <td>295.0</td>\n",
              "      <td>214.0</td>\n",
              "      <td>2.0</td>\n",
              "      <td>1.0</td>\n",
              "      <td>78.399</td>\n",
              "      <td>2021</td>\n",
              "      <td>52.1</td>\n",
              "      <td>0.5</td>\n",
              "      <td>65.327007</td>\n",
              "      <td>0.207299</td>\n",
              "      <td>0.0</td>\n",
              "    </tr>\n",
              "    <tr>\n",
              "      <th>1</th>\n",
              "      <td>2.0</td>\n",
              "      <td>1.0</td>\n",
              "      <td>297.0</td>\n",
              "      <td>246.0</td>\n",
              "      <td>296.0</td>\n",
              "      <td>280.0</td>\n",
              "      <td>2.0</td>\n",
              "      <td>2.0</td>\n",
              "      <td>74.680</td>\n",
              "      <td>2021</td>\n",
              "      <td>51.8</td>\n",
              "      <td>0.4</td>\n",
              "      <td>64.527692</td>\n",
              "      <td>0.190769</td>\n",
              "      <td>0.0</td>\n",
              "    </tr>\n",
              "    <tr>\n",
              "      <th>2</th>\n",
              "      <td>3.0</td>\n",
              "      <td>1.0</td>\n",
              "      <td>301.0</td>\n",
              "      <td>250.0</td>\n",
              "      <td>298.0</td>\n",
              "      <td>285.0</td>\n",
              "      <td>2.0</td>\n",
              "      <td>3.0</td>\n",
              "      <td>74.471</td>\n",
              "      <td>2021</td>\n",
              "      <td>51.7</td>\n",
              "      <td>0.8</td>\n",
              "      <td>64.089231</td>\n",
              "      <td>0.200000</td>\n",
              "      <td>0.0</td>\n",
              "    </tr>\n",
              "    <tr>\n",
              "      <th>3</th>\n",
              "      <td>4.0</td>\n",
              "      <td>1.0</td>\n",
              "      <td>NaN</td>\n",
              "      <td>241.0</td>\n",
              "      <td>298.0</td>\n",
              "      <td>284.0</td>\n",
              "      <td>2.0</td>\n",
              "      <td>4.0</td>\n",
              "      <td>74.713</td>\n",
              "      <td>2021</td>\n",
              "      <td>51.9</td>\n",
              "      <td>0.5</td>\n",
              "      <td>62.656394</td>\n",
              "      <td>0.192604</td>\n",
              "      <td>0.0</td>\n",
              "    </tr>\n",
              "    <tr>\n",
              "      <th>4</th>\n",
              "      <td>5.0</td>\n",
              "      <td>1.0</td>\n",
              "      <td>303.0</td>\n",
              "      <td>244.0</td>\n",
              "      <td>299.0</td>\n",
              "      <td>287.0</td>\n",
              "      <td>2.0</td>\n",
              "      <td>5.0</td>\n",
              "      <td>74.660</td>\n",
              "      <td>2021</td>\n",
              "      <td>51.9</td>\n",
              "      <td>0.5</td>\n",
              "      <td>63.229584</td>\n",
              "      <td>0.195686</td>\n",
              "      <td>0.0</td>\n",
              "    </tr>\n",
              "  </tbody>\n",
              "</table>\n",
              "</div>\n",
              "    <div class=\"colab-df-buttons\">\n",
              "\n",
              "  <div class=\"colab-df-container\">\n",
              "    <button class=\"colab-df-convert\" onclick=\"convertToInteractive('df-8b79a9b9-386a-49ad-8e2e-a9abc072c719')\"\n",
              "            title=\"Convert this dataframe to an interactive table.\"\n",
              "            style=\"display:none;\">\n",
              "\n",
              "  <svg xmlns=\"http://www.w3.org/2000/svg\" height=\"24px\" viewBox=\"0 -960 960 960\">\n",
              "    <path d=\"M120-120v-720h720v720H120Zm60-500h600v-160H180v160Zm220 220h160v-160H400v160Zm0 220h160v-160H400v160ZM180-400h160v-160H180v160Zm440 0h160v-160H620v160ZM180-180h160v-160H180v160Zm440 0h160v-160H620v160Z\"/>\n",
              "  </svg>\n",
              "    </button>\n",
              "\n",
              "  <style>\n",
              "    .colab-df-container {\n",
              "      display:flex;\n",
              "      gap: 12px;\n",
              "    }\n",
              "\n",
              "    .colab-df-convert {\n",
              "      background-color: #E8F0FE;\n",
              "      border: none;\n",
              "      border-radius: 50%;\n",
              "      cursor: pointer;\n",
              "      display: none;\n",
              "      fill: #1967D2;\n",
              "      height: 32px;\n",
              "      padding: 0 0 0 0;\n",
              "      width: 32px;\n",
              "    }\n",
              "\n",
              "    .colab-df-convert:hover {\n",
              "      background-color: #E2EBFA;\n",
              "      box-shadow: 0px 1px 2px rgba(60, 64, 67, 0.3), 0px 1px 3px 1px rgba(60, 64, 67, 0.15);\n",
              "      fill: #174EA6;\n",
              "    }\n",
              "\n",
              "    .colab-df-buttons div {\n",
              "      margin-bottom: 4px;\n",
              "    }\n",
              "\n",
              "    [theme=dark] .colab-df-convert {\n",
              "      background-color: #3B4455;\n",
              "      fill: #D2E3FC;\n",
              "    }\n",
              "\n",
              "    [theme=dark] .colab-df-convert:hover {\n",
              "      background-color: #434B5C;\n",
              "      box-shadow: 0px 1px 3px 1px rgba(0, 0, 0, 0.15);\n",
              "      filter: drop-shadow(0px 1px 2px rgba(0, 0, 0, 0.3));\n",
              "      fill: #FFFFFF;\n",
              "    }\n",
              "  </style>\n",
              "\n",
              "    <script>\n",
              "      const buttonEl =\n",
              "        document.querySelector('#df-8b79a9b9-386a-49ad-8e2e-a9abc072c719 button.colab-df-convert');\n",
              "      buttonEl.style.display =\n",
              "        google.colab.kernel.accessAllowed ? 'block' : 'none';\n",
              "\n",
              "      async function convertToInteractive(key) {\n",
              "        const element = document.querySelector('#df-8b79a9b9-386a-49ad-8e2e-a9abc072c719');\n",
              "        const dataTable =\n",
              "          await google.colab.kernel.invokeFunction('convertToInteractive',\n",
              "                                                    [key], {});\n",
              "        if (!dataTable) return;\n",
              "\n",
              "        const docLinkHtml = 'Like what you see? Visit the ' +\n",
              "          '<a target=\"_blank\" href=https://colab.research.google.com/notebooks/data_table.ipynb>data table notebook</a>'\n",
              "          + ' to learn more about interactive tables.';\n",
              "        element.innerHTML = '';\n",
              "        dataTable['output_type'] = 'display_data';\n",
              "        await google.colab.output.renderOutput(dataTable, element);\n",
              "        const docLink = document.createElement('div');\n",
              "        docLink.innerHTML = docLinkHtml;\n",
              "        element.appendChild(docLink);\n",
              "      }\n",
              "    </script>\n",
              "  </div>\n",
              "\n",
              "\n",
              "<div id=\"df-b2bc1025-e8be-410d-b929-88614b28f95e\">\n",
              "  <button class=\"colab-df-quickchart\" onclick=\"quickchart('df-b2bc1025-e8be-410d-b929-88614b28f95e')\"\n",
              "            title=\"Suggest charts\"\n",
              "            style=\"display:none;\">\n",
              "\n",
              "<svg xmlns=\"http://www.w3.org/2000/svg\" height=\"24px\"viewBox=\"0 0 24 24\"\n",
              "     width=\"24px\">\n",
              "    <g>\n",
              "        <path d=\"M19 3H5c-1.1 0-2 .9-2 2v14c0 1.1.9 2 2 2h14c1.1 0 2-.9 2-2V5c0-1.1-.9-2-2-2zM9 17H7v-7h2v7zm4 0h-2V7h2v10zm4 0h-2v-4h2v4z\"/>\n",
              "    </g>\n",
              "</svg>\n",
              "  </button>\n",
              "\n",
              "<style>\n",
              "  .colab-df-quickchart {\n",
              "      --bg-color: #E8F0FE;\n",
              "      --fill-color: #1967D2;\n",
              "      --hover-bg-color: #E2EBFA;\n",
              "      --hover-fill-color: #174EA6;\n",
              "      --disabled-fill-color: #AAA;\n",
              "      --disabled-bg-color: #DDD;\n",
              "  }\n",
              "\n",
              "  [theme=dark] .colab-df-quickchart {\n",
              "      --bg-color: #3B4455;\n",
              "      --fill-color: #D2E3FC;\n",
              "      --hover-bg-color: #434B5C;\n",
              "      --hover-fill-color: #FFFFFF;\n",
              "      --disabled-bg-color: #3B4455;\n",
              "      --disabled-fill-color: #666;\n",
              "  }\n",
              "\n",
              "  .colab-df-quickchart {\n",
              "    background-color: var(--bg-color);\n",
              "    border: none;\n",
              "    border-radius: 50%;\n",
              "    cursor: pointer;\n",
              "    display: none;\n",
              "    fill: var(--fill-color);\n",
              "    height: 32px;\n",
              "    padding: 0;\n",
              "    width: 32px;\n",
              "  }\n",
              "\n",
              "  .colab-df-quickchart:hover {\n",
              "    background-color: var(--hover-bg-color);\n",
              "    box-shadow: 0 1px 2px rgba(60, 64, 67, 0.3), 0 1px 3px 1px rgba(60, 64, 67, 0.15);\n",
              "    fill: var(--button-hover-fill-color);\n",
              "  }\n",
              "\n",
              "  .colab-df-quickchart-complete:disabled,\n",
              "  .colab-df-quickchart-complete:disabled:hover {\n",
              "    background-color: var(--disabled-bg-color);\n",
              "    fill: var(--disabled-fill-color);\n",
              "    box-shadow: none;\n",
              "  }\n",
              "\n",
              "  .colab-df-spinner {\n",
              "    border: 2px solid var(--fill-color);\n",
              "    border-color: transparent;\n",
              "    border-bottom-color: var(--fill-color);\n",
              "    animation:\n",
              "      spin 1s steps(1) infinite;\n",
              "  }\n",
              "\n",
              "  @keyframes spin {\n",
              "    0% {\n",
              "      border-color: transparent;\n",
              "      border-bottom-color: var(--fill-color);\n",
              "      border-left-color: var(--fill-color);\n",
              "    }\n",
              "    20% {\n",
              "      border-color: transparent;\n",
              "      border-left-color: var(--fill-color);\n",
              "      border-top-color: var(--fill-color);\n",
              "    }\n",
              "    30% {\n",
              "      border-color: transparent;\n",
              "      border-left-color: var(--fill-color);\n",
              "      border-top-color: var(--fill-color);\n",
              "      border-right-color: var(--fill-color);\n",
              "    }\n",
              "    40% {\n",
              "      border-color: transparent;\n",
              "      border-right-color: var(--fill-color);\n",
              "      border-top-color: var(--fill-color);\n",
              "    }\n",
              "    60% {\n",
              "      border-color: transparent;\n",
              "      border-right-color: var(--fill-color);\n",
              "    }\n",
              "    80% {\n",
              "      border-color: transparent;\n",
              "      border-right-color: var(--fill-color);\n",
              "      border-bottom-color: var(--fill-color);\n",
              "    }\n",
              "    90% {\n",
              "      border-color: transparent;\n",
              "      border-bottom-color: var(--fill-color);\n",
              "    }\n",
              "  }\n",
              "</style>\n",
              "\n",
              "  <script>\n",
              "    async function quickchart(key) {\n",
              "      const quickchartButtonEl =\n",
              "        document.querySelector('#' + key + ' button');\n",
              "      quickchartButtonEl.disabled = true;  // To prevent multiple clicks.\n",
              "      quickchartButtonEl.classList.add('colab-df-spinner');\n",
              "      try {\n",
              "        const charts = await google.colab.kernel.invokeFunction(\n",
              "            'suggestCharts', [key], {});\n",
              "      } catch (error) {\n",
              "        console.error('Error during call to suggestCharts:', error);\n",
              "      }\n",
              "      quickchartButtonEl.classList.remove('colab-df-spinner');\n",
              "      quickchartButtonEl.classList.add('colab-df-quickchart-complete');\n",
              "    }\n",
              "    (() => {\n",
              "      let quickchartButtonEl =\n",
              "        document.querySelector('#df-b2bc1025-e8be-410d-b929-88614b28f95e button');\n",
              "      quickchartButtonEl.style.display =\n",
              "        google.colab.kernel.accessAllowed ? 'block' : 'none';\n",
              "    })();\n",
              "  </script>\n",
              "</div>\n",
              "\n",
              "    </div>\n",
              "  </div>\n"
            ],
            "application/vnd.google.colaboratory.intrinsic+json": {
              "type": "dataframe",
              "variable_name": "prepro",
              "summary": "{\n  \"name\": \"prepro\",\n  \"rows\": 71,\n  \"fields\": [\n    {\n      \"column\": \"LapNumber\",\n      \"properties\": {\n        \"dtype\": \"number\",\n        \"std\": 20.639767440550294,\n        \"min\": 1.0,\n        \"max\": 71.0,\n        \"num_unique_values\": 71,\n        \"samples\": [\n          23.0,\n          1.0,\n          50.0\n        ],\n        \"semantic_type\": \"\",\n        \"description\": \"\"\n      }\n    },\n    {\n      \"column\": \"Stint\",\n      \"properties\": {\n        \"dtype\": \"number\",\n        \"std\": 1.283387118125244,\n        \"min\": 1.0,\n        \"max\": 5.0,\n        \"num_unique_values\": 5,\n        \"samples\": [\n          2.0,\n          5.0,\n          3.0\n        ],\n        \"semantic_type\": \"\",\n        \"description\": \"\"\n      }\n    },\n    {\n      \"column\": \"SpeedI1\",\n      \"properties\": {\n        \"dtype\": \"number\",\n        \"std\": 35.15249667660706,\n        \"min\": 102.0,\n        \"max\": 315.0,\n        \"num_unique_values\": 24,\n        \"samples\": [\n          300.0,\n          306.0,\n          296.0\n        ],\n        \"semantic_type\": \"\",\n        \"description\": \"\"\n      }\n    },\n    {\n      \"column\": \"SpeedI2\",\n      \"properties\": {\n        \"dtype\": \"number\",\n        \"std\": 28.304666130313052,\n        \"min\": 110.0,\n        \"max\": 258.0,\n        \"num_unique_values\": 23,\n        \"samples\": [\n          254.0,\n          247.0,\n          249.0\n        ],\n        \"semantic_type\": \"\",\n        \"description\": \"\"\n      }\n    },\n    {\n      \"column\": \"SpeedFL\",\n      \"properties\": {\n        \"dtype\": \"number\",\n        \"std\": 23.572180016647227,\n        \"min\": 198.0,\n        \"max\": 321.0,\n        \"num_unique_values\": 21,\n        \"samples\": [\n          295.0,\n          306.0,\n          304.0\n        ],\n        \"semantic_type\": \"\",\n        \"description\": \"\"\n      }\n    },\n    {\n      \"column\": \"SpeedST\",\n      \"properties\": {\n        \"dtype\": \"number\",\n        \"std\": 26.009283859849006,\n        \"min\": 171.0,\n        \"max\": 318.0,\n        \"num_unique_values\": 34,\n        \"samples\": [\n          291.0,\n          306.0,\n          303.0\n        ],\n        \"semantic_type\": \"\",\n        \"description\": \"\"\n      }\n    },\n    {\n      \"column\": \"Compound\",\n      \"properties\": {\n        \"dtype\": \"number\",\n        \"std\": 0.48891124473813075,\n        \"min\": 2.0,\n        \"max\": 3.0,\n        \"num_unique_values\": 2,\n        \"samples\": [\n          3.0,\n          2.0\n        ],\n        \"semantic_type\": \"\",\n        \"description\": \"\"\n      }\n    },\n    {\n      \"column\": \"TyreLife\",\n      \"properties\": {\n        \"dtype\": \"number\",\n        \"std\": 8.492984440598576,\n        \"min\": 1.0,\n        \"max\": 31.0,\n        \"num_unique_values\": 31,\n        \"samples\": [\n          28.0,\n          16.0\n        ],\n        \"semantic_type\": \"\",\n        \"description\": \"\"\n      }\n    },\n    {\n      \"column\": \"LapTime\",\n      \"properties\": {\n        \"dtype\": \"number\",\n        \"std\": 13.222371578554592,\n        \"min\": 72.486,\n        \"max\": 149.633,\n        \"num_unique_values\": 71,\n        \"samples\": [\n          74.774,\n          78.399\n        ],\n        \"semantic_type\": \"\",\n        \"description\": \"\"\n      }\n    },\n    {\n      \"column\": \"Season\",\n      \"properties\": {\n        \"dtype\": \"number\",\n        \"std\": 0,\n        \"min\": 2021,\n        \"max\": 2021,\n        \"num_unique_values\": 1,\n        \"samples\": [\n          2021\n        ],\n        \"semantic_type\": \"\",\n        \"description\": \"\"\n      }\n    },\n    {\n      \"column\": \"TrackTemp\",\n      \"properties\": {\n        \"dtype\": \"number\",\n        \"std\": 1.9463126153782913,\n        \"min\": 43.9,\n        \"max\": 52.3,\n        \"num_unique_values\": 33,\n        \"samples\": [\n          44.6\n        ],\n        \"semantic_type\": \"\",\n        \"description\": \"\"\n      }\n    },\n    {\n      \"column\": \"WindSpeed\",\n      \"properties\": {\n        \"dtype\": \"number\",\n        \"std\": 0.12572526017582014,\n        \"min\": 0.2,\n        \"max\": 0.8,\n        \"num_unique_values\": 7,\n        \"samples\": [\n          0.5\n        ],\n        \"semantic_type\": \"\",\n        \"description\": \"\"\n      }\n    },\n    {\n      \"column\": \"Throttle\",\n      \"properties\": {\n        \"dtype\": \"number\",\n        \"std\": 8.985193370471958,\n        \"min\": 21.410756040530007,\n        \"max\": 67.1717791411043,\n        \"num_unique_values\": 71,\n        \"samples\": [\n          62.6796875\n        ],\n        \"semantic_type\": \"\",\n        \"description\": \"\"\n      }\n    },\n    {\n      \"column\": \"Brake\",\n      \"properties\": {\n        \"dtype\": \"number\",\n        \"std\": 0.02453580323136462,\n        \"min\": 0.14774494556765164,\n        \"max\": 0.30782459157351677,\n        \"num_unique_values\": 68,\n        \"samples\": [\n          0.17981072555205047\n        ],\n        \"semantic_type\": \"\",\n        \"description\": \"\"\n      }\n    },\n    {\n      \"column\": \"DRS\",\n      \"properties\": {\n        \"dtype\": \"number\",\n        \"std\": 0.019619826378085264,\n        \"min\": 0.0,\n        \"max\": 0.07320872274143302,\n        \"num_unique_values\": 11,\n        \"samples\": [\n          0.07278481012658228\n        ],\n        \"semantic_type\": \"\",\n        \"description\": \"\"\n      }\n    }\n  ]\n}"
            }
          },
          "metadata": {},
          "execution_count": 88
        }
      ]
    },
    {
      "cell_type": "code",
      "source": [
        "def select_speed_trap(data):\n",
        "    corr = data[['LapTime', 'SpeedI1', 'SpeedI2', 'SpeedFL', 'SpeedST']].corr()\n",
        "    speed_trap = corr['LapTime'].iloc[1:].abs().idxmax()\n",
        "    return speed_trap"
      ],
      "metadata": {
        "id": "iJmKd5bnCtzn",
        "outputId": "d0039404-5e20-4dc0-eb0c-0368196dcb04",
        "colab": {
          "base_uri": "https://localhost:8080/",
          "height": 35
        }
      },
      "execution_count": 106,
      "outputs": [
        {
          "output_type": "execute_result",
          "data": {
            "text/plain": [
              "'SpeedI1'"
            ],
            "application/vnd.google.colaboratory.intrinsic+json": {
              "type": "string"
            }
          },
          "metadata": {},
          "execution_count": 106
        }
      ]
    },
    {
      "cell_type": "code",
      "source": [
        "with open(ML_PATH / \"tabular_data.pkl\", \"wb\") as f:\n",
        "    pickle.dump(merged_data, f)"
      ],
      "metadata": {
        "id": "NzO-EK-QyWEy"
      },
      "execution_count": null,
      "outputs": []
    }
  ],
  "metadata": {
    "kernelspec": {
      "display_name": "f1",
      "language": "python",
      "name": "python3"
    },
    "language_info": {
      "codemirror_mode": {
        "name": "ipython",
        "version": 3
      },
      "file_extension": ".py",
      "mimetype": "text/x-python",
      "name": "python",
      "nbconvert_exporter": "python",
      "pygments_lexer": "ipython3",
      "version": "3.10.14"
    },
    "colab": {
      "provenance": [],
      "include_colab_link": true
    }
  },
  "nbformat": 4,
  "nbformat_minor": 0
}