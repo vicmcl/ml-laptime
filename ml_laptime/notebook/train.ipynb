{
  "cells": [
    {
      "cell_type": "markdown",
      "metadata": {
        "id": "view-in-github",
        "colab_type": "text"
      },
      "source": [
        "<a href=\"https://colab.research.google.com/github/vicmcl/ml-laptime/blob/main/ml_laptime/notebook/train.ipynb\" target=\"_parent\"><img src=\"https://colab.research.google.com/assets/colab-badge.svg\" alt=\"Open In Colab\"/></a>"
      ]
    },
    {
      "cell_type": "code",
      "execution_count": 108,
      "metadata": {
        "id": "wmlNQe3BVS0a"
      },
      "outputs": [],
      "source": [
        "from pathlib import Path\n",
        "import os\n",
        "import glob\n",
        "import seaborn as sns\n",
        "import matplotlib.pyplot as plt\n",
        "import pandas as pd\n",
        "import pickle"
      ]
    },
    {
      "cell_type": "code",
      "execution_count": 2,
      "metadata": {
        "id": "cGenhBFjVS0c",
        "outputId": "8f1112f1-a1ea-4e6e-de33-1b570164c7c6",
        "colab": {
          "base_uri": "https://localhost:8080/"
        }
      },
      "outputs": [
        {
          "output_type": "stream",
          "name": "stdout",
          "text": [
            "Drive not mounted, so nothing to flush and unmount.\n",
            "Mounted at /content/drive\n"
          ]
        }
      ],
      "source": [
        "# Mount Drive\n",
        "from google.colab import drive\n",
        "\n",
        "drive.flush_and_unmount()\n",
        "drive.mount('/content/drive')\n",
        "DRIVE_PATH = Path(\"/content/drive/MyDrive/\")\n",
        "ML_PATH = DRIVE_PATH / \"Projects\" / \"laptime-simulation\""
      ]
    },
    {
      "cell_type": "code",
      "source": [
        "data_path = glob.glob(str(ML_PATH / \"races_*.pkl\"))"
      ],
      "metadata": {
        "id": "3XVKIZQTZAxf"
      },
      "execution_count": 3,
      "outputs": []
    },
    {
      "cell_type": "code",
      "source": [
        "pip install -q fastf1"
      ],
      "metadata": {
        "id": "U6koeM0VZPOy",
        "outputId": "41d9aee5-40ee-46af-b31d-d3f33d798393",
        "colab": {
          "base_uri": "https://localhost:8080/"
        }
      },
      "execution_count": 4,
      "outputs": [
        {
          "output_type": "stream",
          "name": "stdout",
          "text": [
            "\u001b[?25l   \u001b[90m━━━━━━━━━━━━━━━━━━━━━━━━━━━━━━━━━━━━━━━━\u001b[0m \u001b[32m0.0/148.3 kB\u001b[0m \u001b[31m?\u001b[0m eta \u001b[36m-:--:--\u001b[0m\r\u001b[2K   \u001b[90m━━━━━━━━━━━━━━━━━━━━━━━━━━━━━━━━━━━━━━━━\u001b[0m \u001b[32m148.3/148.3 kB\u001b[0m \u001b[31m11.2 MB/s\u001b[0m eta \u001b[36m0:00:00\u001b[0m\n",
            "\u001b[?25h\u001b[?25l   \u001b[90m━━━━━━━━━━━━━━━━━━━━━━━━━━━━━━━━━━━━━━━━\u001b[0m \u001b[32m0.0/61.4 kB\u001b[0m \u001b[31m?\u001b[0m eta \u001b[36m-:--:--\u001b[0m\r\u001b[2K   \u001b[90m━━━━━━━━━━━━━━━━━━━━━━━━━━━━━━━━━━━━━━━━\u001b[0m \u001b[32m61.4/61.4 kB\u001b[0m \u001b[31m2.6 MB/s\u001b[0m eta \u001b[36m0:00:00\u001b[0m\n",
            "\u001b[?25h\u001b[?25l   \u001b[90m━━━━━━━━━━━━━━━━━━━━━━━━━━━━━━━━━━━━━━━━\u001b[0m \u001b[32m0.0/130.2 kB\u001b[0m \u001b[31m?\u001b[0m eta \u001b[36m-:--:--\u001b[0m\r\u001b[2K   \u001b[90m━━━━━━━━━━━━━━━━━━━━━━━━━━━━━━━━━━━━━━━━\u001b[0m \u001b[32m130.2/130.2 kB\u001b[0m \u001b[31m9.9 MB/s\u001b[0m eta \u001b[36m0:00:00\u001b[0m\n",
            "\u001b[2K   \u001b[90m━━━━━━━━━━━━━━━━━━━━━━━━━━━━━━━━━━━━━━━━\u001b[0m \u001b[32m3.4/3.4 MB\u001b[0m \u001b[31m80.0 MB/s\u001b[0m eta \u001b[36m0:00:00\u001b[0m\n",
            "\u001b[2K   \u001b[90m━━━━━━━━━━━━━━━━━━━━━━━━━━━━━━━━━━━━━━━━\u001b[0m \u001b[32m57.5/57.5 kB\u001b[0m \u001b[31m5.4 MB/s\u001b[0m eta \u001b[36m0:00:00\u001b[0m\n",
            "\u001b[?25h"
          ]
        }
      ]
    },
    {
      "cell_type": "code",
      "source": [
        "data_path"
      ],
      "metadata": {
        "colab": {
          "base_uri": "https://localhost:8080/"
        },
        "id": "0kby4SUaaQy-",
        "outputId": "10c17bee-a323-4f1b-9273-72b64d960440"
      },
      "execution_count": null,
      "outputs": [
        {
          "output_type": "execute_result",
          "data": {
            "text/plain": [
              "['/content/drive/MyDrive/Projects/laptime-simulation/races_2021.pkl',\n",
              " '/content/drive/MyDrive/Projects/laptime-simulation/races_2020.pkl',\n",
              " '/content/drive/MyDrive/Projects/laptime-simulation/races_2019.pkl']"
            ]
          },
          "metadata": {},
          "execution_count": 6
        }
      ]
    },
    {
      "cell_type": "code",
      "source": [
        "data = {}\n",
        "with open(data_path[0], \"rb\") as f:\n",
        "    data[2021] = pickle.load(f)\n",
        "\n",
        "with open(data_path[1], \"rb\") as f:\n",
        "    data[2020] = pickle.load(f)\n",
        "\n",
        "with open(data_path[2], \"rb\") as f:\n",
        "    data[2019] = pickle.load(f)"
      ],
      "metadata": {
        "id": "uLlbdzOwZFqi"
      },
      "execution_count": 117,
      "outputs": []
    },
    {
      "cell_type": "code",
      "source": [
        "gp_list = data[2021].keys() & data[2020].keys() & data[2019].keys()\n",
        "gp_list"
      ],
      "metadata": {
        "id": "NQkPSM8Y43O0",
        "outputId": "5e704e4a-3734-4a34-d012-e93f229f76bb",
        "colab": {
          "base_uri": "https://localhost:8080/"
        }
      },
      "execution_count": 125,
      "outputs": [
        {
          "output_type": "execute_result",
          "data": {
            "text/plain": [
              "{'Abu Dhabi Grand Prix',\n",
              " 'Austrian Grand Prix',\n",
              " 'Bahrain Grand Prix',\n",
              " 'Belgian Grand Prix',\n",
              " 'Hungarian Grand Prix',\n",
              " 'Russian Grand Prix',\n",
              " 'Spanish Grand Prix'}"
            ]
          },
          "metadata": {},
          "execution_count": 125
        }
      ]
    },
    {
      "cell_type": "code",
      "source": [
        "columns_laps = [\n",
        "    'Time', 'LapNumber', 'Stint', 'SpeedI1', 'SpeedI2', 'SpeedFL', 'SpeedST',\n",
        "    'Compound', 'TyreLife', 'LapTime'\n",
        "]\n",
        "\n",
        "columns_telemetry = ['SessionTime', 'Throttle', 'Brake', 'DRS']\n",
        "\n",
        "columns_weather = ['Time', 'TrackTemp', 'WindSpeed']\n",
        "\n",
        "compound_map = {\n",
        "    'SOFT': 1.0,\n",
        "    'MEDIUM': 2.0,\n",
        "    'HARD': 3.0\n",
        "}"
      ],
      "metadata": {
        "id": "noxkFQJtjyA0"
      },
      "execution_count": 6,
      "outputs": []
    },
    {
      "cell_type": "code",
      "source": [
        "def process_lap_data(gp, year):\n",
        "    laps_data = data[year][gp]['laps'][columns_laps].copy()\n",
        "    laps_data['Season'] = year\n",
        "    laps_data = laps_data.reset_index().drop('index', axis=1)\n",
        "    laps_data['Compound'] = laps_data['Compound'].map(lambda x: compound_map.get(x, 0.0))\n",
        "    return laps_data"
      ],
      "metadata": {
        "id": "CHu8n406xaGn"
      },
      "execution_count": 7,
      "outputs": []
    },
    {
      "cell_type": "code",
      "source": [
        "def map_drs(drs):\n",
        "    if drs >= 10:\n",
        "        return True\n",
        "    else:\n",
        "        return False\n",
        "\n",
        "def process_telemetry_data(gp, year, laps):\n",
        "    telemetry_data = data[year][gp]['telemetry'][columns_telemetry].copy()\n",
        "    telemetry_with_laps = pd.merge_asof(\n",
        "        telemetry_data,\n",
        "        laps[['Time', 'LapNumber']],\n",
        "        left_on='SessionTime',\n",
        "        right_on='Time',\n",
        "        direction='forward'\n",
        "    ).drop('Time', axis=1)\n",
        "    telemetry_with_laps.loc[:, 'DRS'] = telemetry_with_laps['DRS'].map(map_drs)\n",
        "    telemetry_avg = telemetry_with_laps.groupby('LapNumber').mean()\n",
        "    return telemetry_avg"
      ],
      "metadata": {
        "id": "_rNbKG-R0RYA"
      },
      "execution_count": 8,
      "outputs": []
    },
    {
      "cell_type": "code",
      "source": [
        "def process_weather_data(gp, year):\n",
        "    weather_data = data[year][gp]['weather'][columns_weather].copy()\n",
        "    return weather_data"
      ],
      "metadata": {
        "id": "-kKzKlCt-vOO"
      },
      "execution_count": 9,
      "outputs": []
    },
    {
      "cell_type": "code",
      "source": [
        "def merge_data(laps, weather, telemetry):\n",
        "    merged_data = pd.merge_asof(laps, weather, on='Time', direction='nearest').set_index('LapNumber').drop('Time', axis=1)\n",
        "    merged_data = pd.concat([merged_data, telemetry], axis=1).reset_index()\n",
        "    merged_data = merged_data.drop('SessionTime', axis=1)\n",
        "    merged_data.loc[:, 'LapTime'] = merged_data['LapTime'].map(lambda x: x.total_seconds())\n",
        "    return merged_data"
      ],
      "metadata": {
        "id": "xceeFROu_dzg"
      },
      "execution_count": 10,
      "outputs": []
    },
    {
      "cell_type": "code",
      "source": [
        "def preprocess_data(gp, year):\n",
        "    laps = process_lap_data(gp, year)\n",
        "    weather = process_weather_data(gp, year)\n",
        "    telemetry = process_telemetry_data(gp, year, laps)\n",
        "    merged_data = merge_data(laps, weather, telemetry)\n",
        "    return merged_data"
      ],
      "metadata": {
        "id": "ty-tG8O9sE41"
      },
      "execution_count": 11,
      "outputs": []
    },
    {
      "cell_type": "code",
      "source": [
        "from sklearn.model_selection import train_test_split\n",
        "from sklearn.impute import SimpleImputer\n",
        "\n",
        "si = SimpleImputer()"
      ],
      "metadata": {
        "id": "_0LVCCq965j_"
      },
      "execution_count": 12,
      "outputs": []
    },
    {
      "cell_type": "code",
      "source": [
        "gp = 'Austrian Grand Prix'\n",
        "df = pd.DataFrame()\n",
        "\n",
        "for year in sorted(list(data.keys())):\n",
        "    prepro_data = preprocess_data(gp, year)\n",
        "    for col in prepro_data.columns:\n",
        "        prepro_data[col] = si.fit_transform(prepro_data[[col]])\n",
        "    df = pd.concat([df, prepro_data])\n",
        "\n",
        "df = df.reset_index(drop=True)\n",
        "df = df.dropna(subset='LapTime')"
      ],
      "metadata": {
        "id": "4DhEc85bFOjr"
      },
      "execution_count": 126,
      "outputs": []
    },
    {
      "cell_type": "code",
      "source": [
        "df.info()"
      ],
      "metadata": {
        "colab": {
          "base_uri": "https://localhost:8080/"
        },
        "id": "S3syklC2AYOv",
        "outputId": "e4e8d3dc-2250-4de0-8403-24626a43b935"
      },
      "execution_count": 127,
      "outputs": [
        {
          "output_type": "stream",
          "name": "stdout",
          "text": [
            "<class 'fastf1.core.Laps'>\n",
            "RangeIndex: 152 entries, 0 to 151\n",
            "Data columns (total 15 columns):\n",
            " #   Column     Non-Null Count  Dtype  \n",
            "---  ------     --------------  -----  \n",
            " 0   LapNumber  152 non-null    float64\n",
            " 1   Stint      152 non-null    float64\n",
            " 2   SpeedI1    152 non-null    float64\n",
            " 3   SpeedI2    152 non-null    float64\n",
            " 4   SpeedFL    152 non-null    float64\n",
            " 5   SpeedST    152 non-null    float64\n",
            " 6   Compound   152 non-null    float64\n",
            " 7   TyreLife   152 non-null    float64\n",
            " 8   LapTime    152 non-null    float64\n",
            " 9   Season     152 non-null    float64\n",
            " 10  TrackTemp  152 non-null    float64\n",
            " 11  WindSpeed  152 non-null    float64\n",
            " 12  Throttle   152 non-null    float64\n",
            " 13  Brake      152 non-null    float64\n",
            " 14  DRS        152 non-null    float64\n",
            "dtypes: float64(15)\n",
            "memory usage: 17.9 KB\n"
          ]
        }
      ]
    },
    {
      "cell_type": "code",
      "source": [
        "df"
      ],
      "metadata": {
        "colab": {
          "base_uri": "https://localhost:8080/",
          "height": 424
        },
        "id": "CkPfuRRLGaDE",
        "outputId": "82c97393-fbc1-4b38-b6ff-874a0e88892a"
      },
      "execution_count": 33,
      "outputs": [
        {
          "output_type": "execute_result",
          "data": {
            "text/plain": [
              "     LapNumber  Stint  SpeedI1  SpeedI2  SpeedFL  SpeedST  Compound  TyreLife  \\\n",
              "0          1.0    1.0    278.0    301.0    216.0    298.0       2.0       4.0   \n",
              "1          2.0    1.0    276.0    284.0    214.0    295.0       2.0       5.0   \n",
              "2          3.0    1.0    272.0    285.0    214.0    293.0       2.0       6.0   \n",
              "3          4.0    1.0    271.0    283.0    215.0    293.0       2.0       7.0   \n",
              "4          5.0    1.0    270.0    282.0    215.0    291.0       2.0       8.0   \n",
              "..         ...    ...      ...      ...      ...      ...       ...       ...   \n",
              "176       67.0    5.0    309.0    253.0    303.0    304.0       3.0      27.0   \n",
              "177       68.0    5.0    308.0    251.0    296.0    301.0       3.0      28.0   \n",
              "178       69.0    5.0    303.0    251.0    303.0    291.0       3.0      29.0   \n",
              "179       70.0    5.0    307.0    250.0    302.0    297.0       3.0      30.0   \n",
              "180       71.0    5.0    306.0    247.0    302.0    293.0       3.0      31.0   \n",
              "\n",
              "        LapTime  Season  TrackTemp  WindSpeed   Throttle     Brake  DRS  \n",
              "0    102.867981  2019.0       30.5        1.5  59.717146  0.212766  0.0  \n",
              "1    103.281000  2019.0       30.6        1.5  61.994819  0.189119  0.0  \n",
              "2    103.245000  2019.0       30.3        1.5  62.760618  0.177606  0.0  \n",
              "3    103.308000  2019.0       30.3        0.9  62.631714  0.182864  0.0  \n",
              "4    103.506000  2019.0       30.3        1.1  61.287918  0.178663  0.0  \n",
              "..          ...     ...        ...        ...        ...       ...  ...  \n",
              "176   73.958000  2021.0       46.3        0.4  61.269767  0.201550  0.0  \n",
              "177   74.425000  2021.0       46.1        0.3  60.810478  0.181818  0.0  \n",
              "178   74.389000  2021.0       45.5        0.4  61.536321  0.188563  0.0  \n",
              "179   74.407000  2021.0       44.6        0.5  60.864407  0.186441  0.0  \n",
              "180   74.926000  2021.0       43.9        0.5  60.183206  0.192366  0.0  \n",
              "\n",
              "[181 rows x 15 columns]"
            ],
            "text/html": [
              "\n",
              "  <div id=\"df-06c79fe3-819e-4360-9a71-c120c77ae5f6\" class=\"colab-df-container\">\n",
              "    <div>\n",
              "<style scoped>\n",
              "    .dataframe tbody tr th:only-of-type {\n",
              "        vertical-align: middle;\n",
              "    }\n",
              "\n",
              "    .dataframe tbody tr th {\n",
              "        vertical-align: top;\n",
              "    }\n",
              "\n",
              "    .dataframe thead th {\n",
              "        text-align: right;\n",
              "    }\n",
              "</style>\n",
              "<table border=\"1\" class=\"dataframe\">\n",
              "  <thead>\n",
              "    <tr style=\"text-align: right;\">\n",
              "      <th></th>\n",
              "      <th>LapNumber</th>\n",
              "      <th>Stint</th>\n",
              "      <th>SpeedI1</th>\n",
              "      <th>SpeedI2</th>\n",
              "      <th>SpeedFL</th>\n",
              "      <th>SpeedST</th>\n",
              "      <th>Compound</th>\n",
              "      <th>TyreLife</th>\n",
              "      <th>LapTime</th>\n",
              "      <th>Season</th>\n",
              "      <th>TrackTemp</th>\n",
              "      <th>WindSpeed</th>\n",
              "      <th>Throttle</th>\n",
              "      <th>Brake</th>\n",
              "      <th>DRS</th>\n",
              "    </tr>\n",
              "  </thead>\n",
              "  <tbody>\n",
              "    <tr>\n",
              "      <th>0</th>\n",
              "      <td>1.0</td>\n",
              "      <td>1.0</td>\n",
              "      <td>278.0</td>\n",
              "      <td>301.0</td>\n",
              "      <td>216.0</td>\n",
              "      <td>298.0</td>\n",
              "      <td>2.0</td>\n",
              "      <td>4.0</td>\n",
              "      <td>102.867981</td>\n",
              "      <td>2019.0</td>\n",
              "      <td>30.5</td>\n",
              "      <td>1.5</td>\n",
              "      <td>59.717146</td>\n",
              "      <td>0.212766</td>\n",
              "      <td>0.0</td>\n",
              "    </tr>\n",
              "    <tr>\n",
              "      <th>1</th>\n",
              "      <td>2.0</td>\n",
              "      <td>1.0</td>\n",
              "      <td>276.0</td>\n",
              "      <td>284.0</td>\n",
              "      <td>214.0</td>\n",
              "      <td>295.0</td>\n",
              "      <td>2.0</td>\n",
              "      <td>5.0</td>\n",
              "      <td>103.281000</td>\n",
              "      <td>2019.0</td>\n",
              "      <td>30.6</td>\n",
              "      <td>1.5</td>\n",
              "      <td>61.994819</td>\n",
              "      <td>0.189119</td>\n",
              "      <td>0.0</td>\n",
              "    </tr>\n",
              "    <tr>\n",
              "      <th>2</th>\n",
              "      <td>3.0</td>\n",
              "      <td>1.0</td>\n",
              "      <td>272.0</td>\n",
              "      <td>285.0</td>\n",
              "      <td>214.0</td>\n",
              "      <td>293.0</td>\n",
              "      <td>2.0</td>\n",
              "      <td>6.0</td>\n",
              "      <td>103.245000</td>\n",
              "      <td>2019.0</td>\n",
              "      <td>30.3</td>\n",
              "      <td>1.5</td>\n",
              "      <td>62.760618</td>\n",
              "      <td>0.177606</td>\n",
              "      <td>0.0</td>\n",
              "    </tr>\n",
              "    <tr>\n",
              "      <th>3</th>\n",
              "      <td>4.0</td>\n",
              "      <td>1.0</td>\n",
              "      <td>271.0</td>\n",
              "      <td>283.0</td>\n",
              "      <td>215.0</td>\n",
              "      <td>293.0</td>\n",
              "      <td>2.0</td>\n",
              "      <td>7.0</td>\n",
              "      <td>103.308000</td>\n",
              "      <td>2019.0</td>\n",
              "      <td>30.3</td>\n",
              "      <td>0.9</td>\n",
              "      <td>62.631714</td>\n",
              "      <td>0.182864</td>\n",
              "      <td>0.0</td>\n",
              "    </tr>\n",
              "    <tr>\n",
              "      <th>4</th>\n",
              "      <td>5.0</td>\n",
              "      <td>1.0</td>\n",
              "      <td>270.0</td>\n",
              "      <td>282.0</td>\n",
              "      <td>215.0</td>\n",
              "      <td>291.0</td>\n",
              "      <td>2.0</td>\n",
              "      <td>8.0</td>\n",
              "      <td>103.506000</td>\n",
              "      <td>2019.0</td>\n",
              "      <td>30.3</td>\n",
              "      <td>1.1</td>\n",
              "      <td>61.287918</td>\n",
              "      <td>0.178663</td>\n",
              "      <td>0.0</td>\n",
              "    </tr>\n",
              "    <tr>\n",
              "      <th>...</th>\n",
              "      <td>...</td>\n",
              "      <td>...</td>\n",
              "      <td>...</td>\n",
              "      <td>...</td>\n",
              "      <td>...</td>\n",
              "      <td>...</td>\n",
              "      <td>...</td>\n",
              "      <td>...</td>\n",
              "      <td>...</td>\n",
              "      <td>...</td>\n",
              "      <td>...</td>\n",
              "      <td>...</td>\n",
              "      <td>...</td>\n",
              "      <td>...</td>\n",
              "      <td>...</td>\n",
              "    </tr>\n",
              "    <tr>\n",
              "      <th>176</th>\n",
              "      <td>67.0</td>\n",
              "      <td>5.0</td>\n",
              "      <td>309.0</td>\n",
              "      <td>253.0</td>\n",
              "      <td>303.0</td>\n",
              "      <td>304.0</td>\n",
              "      <td>3.0</td>\n",
              "      <td>27.0</td>\n",
              "      <td>73.958000</td>\n",
              "      <td>2021.0</td>\n",
              "      <td>46.3</td>\n",
              "      <td>0.4</td>\n",
              "      <td>61.269767</td>\n",
              "      <td>0.201550</td>\n",
              "      <td>0.0</td>\n",
              "    </tr>\n",
              "    <tr>\n",
              "      <th>177</th>\n",
              "      <td>68.0</td>\n",
              "      <td>5.0</td>\n",
              "      <td>308.0</td>\n",
              "      <td>251.0</td>\n",
              "      <td>296.0</td>\n",
              "      <td>301.0</td>\n",
              "      <td>3.0</td>\n",
              "      <td>28.0</td>\n",
              "      <td>74.425000</td>\n",
              "      <td>2021.0</td>\n",
              "      <td>46.1</td>\n",
              "      <td>0.3</td>\n",
              "      <td>60.810478</td>\n",
              "      <td>0.181818</td>\n",
              "      <td>0.0</td>\n",
              "    </tr>\n",
              "    <tr>\n",
              "      <th>178</th>\n",
              "      <td>69.0</td>\n",
              "      <td>5.0</td>\n",
              "      <td>303.0</td>\n",
              "      <td>251.0</td>\n",
              "      <td>303.0</td>\n",
              "      <td>291.0</td>\n",
              "      <td>3.0</td>\n",
              "      <td>29.0</td>\n",
              "      <td>74.389000</td>\n",
              "      <td>2021.0</td>\n",
              "      <td>45.5</td>\n",
              "      <td>0.4</td>\n",
              "      <td>61.536321</td>\n",
              "      <td>0.188563</td>\n",
              "      <td>0.0</td>\n",
              "    </tr>\n",
              "    <tr>\n",
              "      <th>179</th>\n",
              "      <td>70.0</td>\n",
              "      <td>5.0</td>\n",
              "      <td>307.0</td>\n",
              "      <td>250.0</td>\n",
              "      <td>302.0</td>\n",
              "      <td>297.0</td>\n",
              "      <td>3.0</td>\n",
              "      <td>30.0</td>\n",
              "      <td>74.407000</td>\n",
              "      <td>2021.0</td>\n",
              "      <td>44.6</td>\n",
              "      <td>0.5</td>\n",
              "      <td>60.864407</td>\n",
              "      <td>0.186441</td>\n",
              "      <td>0.0</td>\n",
              "    </tr>\n",
              "    <tr>\n",
              "      <th>180</th>\n",
              "      <td>71.0</td>\n",
              "      <td>5.0</td>\n",
              "      <td>306.0</td>\n",
              "      <td>247.0</td>\n",
              "      <td>302.0</td>\n",
              "      <td>293.0</td>\n",
              "      <td>3.0</td>\n",
              "      <td>31.0</td>\n",
              "      <td>74.926000</td>\n",
              "      <td>2021.0</td>\n",
              "      <td>43.9</td>\n",
              "      <td>0.5</td>\n",
              "      <td>60.183206</td>\n",
              "      <td>0.192366</td>\n",
              "      <td>0.0</td>\n",
              "    </tr>\n",
              "  </tbody>\n",
              "</table>\n",
              "<p>181 rows × 15 columns</p>\n",
              "</div>\n",
              "    <div class=\"colab-df-buttons\">\n",
              "\n",
              "  <div class=\"colab-df-container\">\n",
              "    <button class=\"colab-df-convert\" onclick=\"convertToInteractive('df-06c79fe3-819e-4360-9a71-c120c77ae5f6')\"\n",
              "            title=\"Convert this dataframe to an interactive table.\"\n",
              "            style=\"display:none;\">\n",
              "\n",
              "  <svg xmlns=\"http://www.w3.org/2000/svg\" height=\"24px\" viewBox=\"0 -960 960 960\">\n",
              "    <path d=\"M120-120v-720h720v720H120Zm60-500h600v-160H180v160Zm220 220h160v-160H400v160Zm0 220h160v-160H400v160ZM180-400h160v-160H180v160Zm440 0h160v-160H620v160ZM180-180h160v-160H180v160Zm440 0h160v-160H620v160Z\"/>\n",
              "  </svg>\n",
              "    </button>\n",
              "\n",
              "  <style>\n",
              "    .colab-df-container {\n",
              "      display:flex;\n",
              "      gap: 12px;\n",
              "    }\n",
              "\n",
              "    .colab-df-convert {\n",
              "      background-color: #E8F0FE;\n",
              "      border: none;\n",
              "      border-radius: 50%;\n",
              "      cursor: pointer;\n",
              "      display: none;\n",
              "      fill: #1967D2;\n",
              "      height: 32px;\n",
              "      padding: 0 0 0 0;\n",
              "      width: 32px;\n",
              "    }\n",
              "\n",
              "    .colab-df-convert:hover {\n",
              "      background-color: #E2EBFA;\n",
              "      box-shadow: 0px 1px 2px rgba(60, 64, 67, 0.3), 0px 1px 3px 1px rgba(60, 64, 67, 0.15);\n",
              "      fill: #174EA6;\n",
              "    }\n",
              "\n",
              "    .colab-df-buttons div {\n",
              "      margin-bottom: 4px;\n",
              "    }\n",
              "\n",
              "    [theme=dark] .colab-df-convert {\n",
              "      background-color: #3B4455;\n",
              "      fill: #D2E3FC;\n",
              "    }\n",
              "\n",
              "    [theme=dark] .colab-df-convert:hover {\n",
              "      background-color: #434B5C;\n",
              "      box-shadow: 0px 1px 3px 1px rgba(0, 0, 0, 0.15);\n",
              "      filter: drop-shadow(0px 1px 2px rgba(0, 0, 0, 0.3));\n",
              "      fill: #FFFFFF;\n",
              "    }\n",
              "  </style>\n",
              "\n",
              "    <script>\n",
              "      const buttonEl =\n",
              "        document.querySelector('#df-06c79fe3-819e-4360-9a71-c120c77ae5f6 button.colab-df-convert');\n",
              "      buttonEl.style.display =\n",
              "        google.colab.kernel.accessAllowed ? 'block' : 'none';\n",
              "\n",
              "      async function convertToInteractive(key) {\n",
              "        const element = document.querySelector('#df-06c79fe3-819e-4360-9a71-c120c77ae5f6');\n",
              "        const dataTable =\n",
              "          await google.colab.kernel.invokeFunction('convertToInteractive',\n",
              "                                                    [key], {});\n",
              "        if (!dataTable) return;\n",
              "\n",
              "        const docLinkHtml = 'Like what you see? Visit the ' +\n",
              "          '<a target=\"_blank\" href=https://colab.research.google.com/notebooks/data_table.ipynb>data table notebook</a>'\n",
              "          + ' to learn more about interactive tables.';\n",
              "        element.innerHTML = '';\n",
              "        dataTable['output_type'] = 'display_data';\n",
              "        await google.colab.output.renderOutput(dataTable, element);\n",
              "        const docLink = document.createElement('div');\n",
              "        docLink.innerHTML = docLinkHtml;\n",
              "        element.appendChild(docLink);\n",
              "      }\n",
              "    </script>\n",
              "  </div>\n",
              "\n",
              "\n",
              "<div id=\"df-862e8788-df3f-49f1-a1f9-6f5ec1eaf81e\">\n",
              "  <button class=\"colab-df-quickchart\" onclick=\"quickchart('df-862e8788-df3f-49f1-a1f9-6f5ec1eaf81e')\"\n",
              "            title=\"Suggest charts\"\n",
              "            style=\"display:none;\">\n",
              "\n",
              "<svg xmlns=\"http://www.w3.org/2000/svg\" height=\"24px\"viewBox=\"0 0 24 24\"\n",
              "     width=\"24px\">\n",
              "    <g>\n",
              "        <path d=\"M19 3H5c-1.1 0-2 .9-2 2v14c0 1.1.9 2 2 2h14c1.1 0 2-.9 2-2V5c0-1.1-.9-2-2-2zM9 17H7v-7h2v7zm4 0h-2V7h2v10zm4 0h-2v-4h2v4z\"/>\n",
              "    </g>\n",
              "</svg>\n",
              "  </button>\n",
              "\n",
              "<style>\n",
              "  .colab-df-quickchart {\n",
              "      --bg-color: #E8F0FE;\n",
              "      --fill-color: #1967D2;\n",
              "      --hover-bg-color: #E2EBFA;\n",
              "      --hover-fill-color: #174EA6;\n",
              "      --disabled-fill-color: #AAA;\n",
              "      --disabled-bg-color: #DDD;\n",
              "  }\n",
              "\n",
              "  [theme=dark] .colab-df-quickchart {\n",
              "      --bg-color: #3B4455;\n",
              "      --fill-color: #D2E3FC;\n",
              "      --hover-bg-color: #434B5C;\n",
              "      --hover-fill-color: #FFFFFF;\n",
              "      --disabled-bg-color: #3B4455;\n",
              "      --disabled-fill-color: #666;\n",
              "  }\n",
              "\n",
              "  .colab-df-quickchart {\n",
              "    background-color: var(--bg-color);\n",
              "    border: none;\n",
              "    border-radius: 50%;\n",
              "    cursor: pointer;\n",
              "    display: none;\n",
              "    fill: var(--fill-color);\n",
              "    height: 32px;\n",
              "    padding: 0;\n",
              "    width: 32px;\n",
              "  }\n",
              "\n",
              "  .colab-df-quickchart:hover {\n",
              "    background-color: var(--hover-bg-color);\n",
              "    box-shadow: 0 1px 2px rgba(60, 64, 67, 0.3), 0 1px 3px 1px rgba(60, 64, 67, 0.15);\n",
              "    fill: var(--button-hover-fill-color);\n",
              "  }\n",
              "\n",
              "  .colab-df-quickchart-complete:disabled,\n",
              "  .colab-df-quickchart-complete:disabled:hover {\n",
              "    background-color: var(--disabled-bg-color);\n",
              "    fill: var(--disabled-fill-color);\n",
              "    box-shadow: none;\n",
              "  }\n",
              "\n",
              "  .colab-df-spinner {\n",
              "    border: 2px solid var(--fill-color);\n",
              "    border-color: transparent;\n",
              "    border-bottom-color: var(--fill-color);\n",
              "    animation:\n",
              "      spin 1s steps(1) infinite;\n",
              "  }\n",
              "\n",
              "  @keyframes spin {\n",
              "    0% {\n",
              "      border-color: transparent;\n",
              "      border-bottom-color: var(--fill-color);\n",
              "      border-left-color: var(--fill-color);\n",
              "    }\n",
              "    20% {\n",
              "      border-color: transparent;\n",
              "      border-left-color: var(--fill-color);\n",
              "      border-top-color: var(--fill-color);\n",
              "    }\n",
              "    30% {\n",
              "      border-color: transparent;\n",
              "      border-left-color: var(--fill-color);\n",
              "      border-top-color: var(--fill-color);\n",
              "      border-right-color: var(--fill-color);\n",
              "    }\n",
              "    40% {\n",
              "      border-color: transparent;\n",
              "      border-right-color: var(--fill-color);\n",
              "      border-top-color: var(--fill-color);\n",
              "    }\n",
              "    60% {\n",
              "      border-color: transparent;\n",
              "      border-right-color: var(--fill-color);\n",
              "    }\n",
              "    80% {\n",
              "      border-color: transparent;\n",
              "      border-right-color: var(--fill-color);\n",
              "      border-bottom-color: var(--fill-color);\n",
              "    }\n",
              "    90% {\n",
              "      border-color: transparent;\n",
              "      border-bottom-color: var(--fill-color);\n",
              "    }\n",
              "  }\n",
              "</style>\n",
              "\n",
              "  <script>\n",
              "    async function quickchart(key) {\n",
              "      const quickchartButtonEl =\n",
              "        document.querySelector('#' + key + ' button');\n",
              "      quickchartButtonEl.disabled = true;  // To prevent multiple clicks.\n",
              "      quickchartButtonEl.classList.add('colab-df-spinner');\n",
              "      try {\n",
              "        const charts = await google.colab.kernel.invokeFunction(\n",
              "            'suggestCharts', [key], {});\n",
              "      } catch (error) {\n",
              "        console.error('Error during call to suggestCharts:', error);\n",
              "      }\n",
              "      quickchartButtonEl.classList.remove('colab-df-spinner');\n",
              "      quickchartButtonEl.classList.add('colab-df-quickchart-complete');\n",
              "    }\n",
              "    (() => {\n",
              "      let quickchartButtonEl =\n",
              "        document.querySelector('#df-862e8788-df3f-49f1-a1f9-6f5ec1eaf81e button');\n",
              "      quickchartButtonEl.style.display =\n",
              "        google.colab.kernel.accessAllowed ? 'block' : 'none';\n",
              "    })();\n",
              "  </script>\n",
              "</div>\n",
              "\n",
              "  <div id=\"id_b0bbe5bc-89c2-4729-a4cc-6fe951c9ddaf\">\n",
              "    <style>\n",
              "      .colab-df-generate {\n",
              "        background-color: #E8F0FE;\n",
              "        border: none;\n",
              "        border-radius: 50%;\n",
              "        cursor: pointer;\n",
              "        display: none;\n",
              "        fill: #1967D2;\n",
              "        height: 32px;\n",
              "        padding: 0 0 0 0;\n",
              "        width: 32px;\n",
              "      }\n",
              "\n",
              "      .colab-df-generate:hover {\n",
              "        background-color: #E2EBFA;\n",
              "        box-shadow: 0px 1px 2px rgba(60, 64, 67, 0.3), 0px 1px 3px 1px rgba(60, 64, 67, 0.15);\n",
              "        fill: #174EA6;\n",
              "      }\n",
              "\n",
              "      [theme=dark] .colab-df-generate {\n",
              "        background-color: #3B4455;\n",
              "        fill: #D2E3FC;\n",
              "      }\n",
              "\n",
              "      [theme=dark] .colab-df-generate:hover {\n",
              "        background-color: #434B5C;\n",
              "        box-shadow: 0px 1px 3px 1px rgba(0, 0, 0, 0.15);\n",
              "        filter: drop-shadow(0px 1px 2px rgba(0, 0, 0, 0.3));\n",
              "        fill: #FFFFFF;\n",
              "      }\n",
              "    </style>\n",
              "    <button class=\"colab-df-generate\" onclick=\"generateWithVariable('df')\"\n",
              "            title=\"Generate code using this dataframe.\"\n",
              "            style=\"display:none;\">\n",
              "\n",
              "  <svg xmlns=\"http://www.w3.org/2000/svg\" height=\"24px\"viewBox=\"0 0 24 24\"\n",
              "       width=\"24px\">\n",
              "    <path d=\"M7,19H8.4L18.45,9,17,7.55,7,17.6ZM5,21V16.75L18.45,3.32a2,2,0,0,1,2.83,0l1.4,1.43a1.91,1.91,0,0,1,.58,1.4,1.91,1.91,0,0,1-.58,1.4L9.25,21ZM18.45,9,17,7.55Zm-12,3A5.31,5.31,0,0,0,4.9,8.1,5.31,5.31,0,0,0,1,6.5,5.31,5.31,0,0,0,4.9,4.9,5.31,5.31,0,0,0,6.5,1,5.31,5.31,0,0,0,8.1,4.9,5.31,5.31,0,0,0,12,6.5,5.46,5.46,0,0,0,6.5,12Z\"/>\n",
              "  </svg>\n",
              "    </button>\n",
              "    <script>\n",
              "      (() => {\n",
              "      const buttonEl =\n",
              "        document.querySelector('#id_b0bbe5bc-89c2-4729-a4cc-6fe951c9ddaf button.colab-df-generate');\n",
              "      buttonEl.style.display =\n",
              "        google.colab.kernel.accessAllowed ? 'block' : 'none';\n",
              "\n",
              "      buttonEl.onclick = () => {\n",
              "        google.colab.notebook.generateWithVariable('df');\n",
              "      }\n",
              "      })();\n",
              "    </script>\n",
              "  </div>\n",
              "\n",
              "    </div>\n",
              "  </div>\n"
            ],
            "application/vnd.google.colaboratory.intrinsic+json": {
              "type": "dataframe",
              "variable_name": "df",
              "summary": "{\n  \"name\": \"df\",\n  \"rows\": 181,\n  \"fields\": [\n    {\n      \"column\": \"LapNumber\",\n      \"properties\": {\n        \"dtype\": \"number\",\n        \"std\": 18.30323999267858,\n        \"min\": 1.0,\n        \"max\": 71.0,\n        \"num_unique_values\": 71,\n        \"samples\": [\n          23.0,\n          1.0,\n          50.0\n        ],\n        \"semantic_type\": \"\",\n        \"description\": \"\"\n      }\n    },\n    {\n      \"column\": \"Stint\",\n      \"properties\": {\n        \"dtype\": \"number\",\n        \"std\": 1.3765554291785647,\n        \"min\": 1.0,\n        \"max\": 5.0,\n        \"num_unique_values\": 5,\n        \"samples\": [\n          2.0,\n          5.0,\n          3.0\n        ],\n        \"semantic_type\": \"\",\n        \"description\": \"\"\n      }\n    },\n    {\n      \"column\": \"SpeedI1\",\n      \"properties\": {\n        \"dtype\": \"number\",\n        \"std\": 26.494725258430883,\n        \"min\": 102.0,\n        \"max\": 315.0,\n        \"num_unique_values\": 48,\n        \"samples\": [\n          301.0,\n          306.0,\n          297.0\n        ],\n        \"semantic_type\": \"\",\n        \"description\": \"\"\n      }\n    },\n    {\n      \"column\": \"SpeedI2\",\n      \"properties\": {\n        \"dtype\": \"number\",\n        \"std\": 30.308685065894444,\n        \"min\": 110.0,\n        \"max\": 310.0,\n        \"num_unique_values\": 61,\n        \"samples\": [\n          301.0,\n          287.0,\n          110.0\n        ],\n        \"semantic_type\": \"\",\n        \"description\": \"\"\n      }\n    },\n    {\n      \"column\": \"SpeedFL\",\n      \"properties\": {\n        \"dtype\": \"number\",\n        \"std\": 41.192772558157316,\n        \"min\": 188.0,\n        \"max\": 321.0,\n        \"num_unique_values\": 35,\n        \"samples\": [\n          317.0,\n          295.0,\n          301.0\n        ],\n        \"semantic_type\": \"\",\n        \"description\": \"\"\n      }\n    },\n    {\n      \"column\": \"SpeedST\",\n      \"properties\": {\n        \"dtype\": \"number\",\n        \"std\": 23.20276720378776,\n        \"min\": 135.0,\n        \"max\": 345.0,\n        \"num_unique_values\": 47,\n        \"samples\": [\n          284.0,\n          300.0,\n          285.0\n        ],\n        \"semantic_type\": \"\",\n        \"description\": \"\"\n      }\n    },\n    {\n      \"column\": \"Compound\",\n      \"properties\": {\n        \"dtype\": \"number\",\n        \"std\": 0.47587598138839654,\n        \"min\": 2.0,\n        \"max\": 3.0,\n        \"num_unique_values\": 2,\n        \"samples\": [\n          3.0,\n          2.0\n        ],\n        \"semantic_type\": \"\",\n        \"description\": \"\"\n      }\n    },\n    {\n      \"column\": \"TyreLife\",\n      \"properties\": {\n        \"dtype\": \"number\",\n        \"std\": 10.392275310366731,\n        \"min\": 1.0,\n        \"max\": 45.0,\n        \"num_unique_values\": 45,\n        \"samples\": [\n          40.0,\n          1.0\n        ],\n        \"semantic_type\": \"\",\n        \"description\": \"\"\n      }\n    },\n    {\n      \"column\": \"LapTime\",\n      \"properties\": {\n        \"dtype\": \"number\",\n        \"std\": 14.667377018180998,\n        \"min\": 72.486,\n        \"max\": 149.633,\n        \"num_unique_values\": 177,\n        \"samples\": [\n          103.024,\n          101.592\n        ],\n        \"semantic_type\": \"\",\n        \"description\": \"\"\n      }\n    },\n    {\n      \"column\": \"Season\",\n      \"properties\": {\n        \"dtype\": \"number\",\n        \"std\": 0.83195097130886,\n        \"min\": 2019.0,\n        \"max\": 2021.0,\n        \"num_unique_values\": 3,\n        \"samples\": [\n          2019.0,\n          2020.0\n        ],\n        \"semantic_type\": \"\",\n        \"description\": \"\"\n      }\n    },\n    {\n      \"column\": \"TrackTemp\",\n      \"properties\": {\n        \"dtype\": \"number\",\n        \"std\": 10.703229003955354,\n        \"min\": 25.4,\n        \"max\": 52.3,\n        \"num_unique_values\": 76,\n        \"samples\": [\n          30.2,\n          26.4\n        ],\n        \"semantic_type\": \"\",\n        \"description\": \"\"\n      }\n    },\n    {\n      \"column\": \"WindSpeed\",\n      \"properties\": {\n        \"dtype\": \"number\",\n        \"std\": 1.054468407233663,\n        \"min\": 0.2,\n        \"max\": 4.0,\n        \"num_unique_values\": 36,\n        \"samples\": [\n          0.6,\n          2.6\n        ],\n        \"semantic_type\": \"\",\n        \"description\": \"\"\n      }\n    },\n    {\n      \"column\": \"Throttle\",\n      \"properties\": {\n        \"dtype\": \"number\",\n        \"std\": 6.853019918116324,\n        \"min\": 21.410756040530007,\n        \"max\": 67.1717791411043,\n        \"num_unique_values\": 181,\n        \"samples\": [\n          62.44015444015444,\n          60.6875\n        ],\n        \"semantic_type\": \"\",\n        \"description\": \"\"\n      }\n    },\n    {\n      \"column\": \"Brake\",\n      \"properties\": {\n        \"dtype\": \"number\",\n        \"std\": 0.017831136946705163,\n        \"min\": 0.14774494556765164,\n        \"max\": 0.30782459157351677,\n        \"num_unique_values\": 167,\n        \"samples\": [\n          0.19076923076923077,\n          0.18865030674846625\n        ],\n        \"semantic_type\": \"\",\n        \"description\": \"\"\n      }\n    },\n    {\n      \"column\": \"DRS\",\n      \"properties\": {\n        \"dtype\": \"number\",\n        \"std\": 0.0227934727136207,\n        \"min\": 0.0,\n        \"max\": 0.16449086161879894,\n        \"num_unique_values\": 19,\n        \"samples\": [\n          0.0,\n          0.16449086161879894\n        ],\n        \"semantic_type\": \"\",\n        \"description\": \"\"\n      }\n    }\n  ]\n}"
            }
          },
          "metadata": {},
          "execution_count": 33
        }
      ]
    },
    {
      "cell_type": "code",
      "source": [
        "from sklearn.model_selection import TimeSeriesSplit\n",
        "\n",
        "tss = TimeSeriesSplit(n_splits=5, test_size=5)\n",
        "\n",
        "fig, axs = plt.subplots(5, 1, figsize=(15, 10), sharex=True)\n",
        "fold = 0\n",
        "for train_idx, test_idx in tss.split(df):\n",
        "    train = df.loc[train_idx]\n",
        "    test = df.loc[test_idx]\n",
        "    train['LapTime'].plot(ax=axs[fold], label='train')\n",
        "    test['LapTime'].plot(ax=axs[fold], label='test')\n",
        "    axs[fold].legend()\n",
        "    fold += 1\n",
        "plt.tight_layout()\n",
        "plt.show()"
      ],
      "metadata": {
        "id": "4iNVrZKzmAia",
        "outputId": "a3c8e7f8-6a9f-42cf-ffb2-ae1e2e67680b",
        "colab": {
          "base_uri": "https://localhost:8080/",
          "height": 890
        }
      },
      "execution_count": 133,
      "outputs": [
        {
          "output_type": "display_data",
          "data": {
            "text/plain": [
              "<Figure size 1500x1000 with 5 Axes>"
            ],
            "image/png": "[encoded data removed]"
          },
          "metadata": {}
        }
      ]
    },
    {
      "cell_type": "code",
      "source": [
        "def select_speed_trap(data):\n",
        "    corr = data[['LapTime', 'SpeedI1', 'SpeedI2', 'SpeedFL', 'SpeedST']].corr()\n",
        "    speed_trap = corr['LapTime'].iloc[1:].abs().idxmax()\n",
        "    return speed_trap\n",
        "\n",
        "def filter_speed_trap(data, speed_trap):\n",
        "    data = data.drop([speed for speed in ['SpeedI1', 'SpeedI2', 'SpeedFL', 'SpeedST'] if speed != speed_trap], axis=1)\n",
        "    data = data.rename(columns={speed_trap: 'SpeedTrap'})\n",
        "    return data"
      ],
      "metadata": {
        "id": "iJmKd5bnCtzn"
      },
      "execution_count": 91,
      "outputs": []
    },
    {
      "cell_type": "code",
      "source": [
        "for train_idx, test_idx in tss.split(df):\n",
        "    break\n",
        "\n",
        "speed_trap = select_speed_trap(df.loc[train_idx])\n",
        "\n",
        "df = filter_speed_trap(df, speed_trap)"
      ],
      "metadata": {
        "id": "bDYSgWGvokz5"
      },
      "execution_count": 134,
      "outputs": []
    },
    {
      "cell_type": "code",
      "source": [
        "df['LagLapTime'] = df['LapTime'].shift(1)\n",
        "df['LagSpeedTrap'] = df['SpeedTrap'].shift(1)\n",
        "df['RollingMeanLapTime'] = df['LapTime'].rolling(window=5).mean()\n",
        "df['RollingMeanSpeedTrap'] = df['SpeedTrap'].rolling(window=5).mean()"
      ],
      "metadata": {
        "id": "QoWAhmIn7t1t"
      },
      "execution_count": 136,
      "outputs": []
    },
    {
      "cell_type": "code",
      "source": [
        "FEATURES = list(df.columns)\n",
        "FEATURES.remove('LapTime')\n",
        "TARGET = 'LapTime'"
      ],
      "metadata": {
        "id": "9EVYLpPO8Rdj"
      },
      "execution_count": 143,
      "outputs": []
    },
    {
      "cell_type": "code",
      "source": [
        "from xgboost import XGBRegressor\n",
        "from sklearn.metrics import mean_squared_error\n",
        "\n",
        "preds = []\n",
        "scores = []\n",
        "\n",
        "for train_idx, test_idx in tss.split(df):\n",
        "    X_train, y_train = df.loc[train_idx, FEATURES], df.loc[train_idx, TARGET]\n",
        "    X_test, y_test = df.loc[test_idx, FEATURES], df.loc[test_idx, TARGET]\n",
        "\n",
        "\n",
        "    model = XGBRegressor(\n",
        "        n_estimators=1000,\n",
        "        learning_rate=0.01,\n",
        "        max_depth=5,\n",
        "        early_stopping_rounds=50,\n",
        "        random_state=42\n",
        "    )\n",
        "\n",
        "    model.fit(\n",
        "        X_train, y_train,\n",
        "        eval_set=[(X_train, y_train), (X_test, y_test)],\n",
        "        verbose=100\n",
        "    )\n",
        "\n",
        "    y_pred = model.predict(X_test)\n",
        "    preds.append(y_pred)\n",
        "    score = mean_squared_error(y_test, y_pred, squared=False)\n",
        "    scores.append(score)"
      ],
      "metadata": {
        "id": "m3VPWbtqsua4",
        "outputId": "c7f0df99-6795-486d-9e5f-34a9e26740a6",
        "colab": {
          "base_uri": "https://localhost:8080/"
        }
      },
      "execution_count": 148,
      "outputs": [
        {
          "output_type": "stream",
          "name": "stdout",
          "text": [
            "[0]\tvalidation_0-rmse:8.63867\tvalidation_1-rmse:2.13683\n",
            "[100]\tvalidation_0-rmse:4.34196\tvalidation_1-rmse:0.97251\n",
            "[200]\tvalidation_0-rmse:2.47948\tvalidation_1-rmse:0.53978\n",
            "[300]\tvalidation_0-rmse:1.47169\tvalidation_1-rmse:0.42015\n",
            "[400]\tvalidation_0-rmse:0.88797\tvalidation_1-rmse:0.36709\n",
            "[500]\tvalidation_0-rmse:0.54214\tvalidation_1-rmse:0.34686\n",
            "[600]\tvalidation_0-rmse:0.33453\tvalidation_1-rmse:0.34379\n",
            "[700]\tvalidation_0-rmse:0.21055\tvalidation_1-rmse:0.33694\n",
            "[786]\tvalidation_0-rmse:0.14530\tvalidation_1-rmse:0.33588\n",
            "[0]\tvalidation_0-rmse:8.48334\tvalidation_1-rmse:2.53533\n",
            "[100]\tvalidation_0-rmse:4.26418\tvalidation_1-rmse:1.00441\n",
            "[200]\tvalidation_0-rmse:2.43482\tvalidation_1-rmse:0.44856\n",
            "[300]\tvalidation_0-rmse:1.44522\tvalidation_1-rmse:0.25357\n",
            "[400]\tvalidation_0-rmse:0.87222\tvalidation_1-rmse:0.18393\n",
            "[500]\tvalidation_0-rmse:0.53276\tvalidation_1-rmse:0.15323\n",
            "[600]\tvalidation_0-rmse:0.32845\tvalidation_1-rmse:0.13724\n",
            "[700]\tvalidation_0-rmse:0.20697\tvalidation_1-rmse:0.12451\n",
            "[800]\tvalidation_0-rmse:0.13421\tvalidation_1-rmse:0.11836\n",
            "[832]\tvalidation_0-rmse:0.11766\tvalidation_1-rmse:0.11810\n",
            "[0]\tvalidation_0-rmse:8.34071\tvalidation_1-rmse:6.73926\n",
            "[100]\tvalidation_0-rmse:4.19210\tvalidation_1-rmse:3.10629\n",
            "[200]\tvalidation_0-rmse:2.39319\tvalidation_1-rmse:1.71025\n",
            "[300]\tvalidation_0-rmse:1.42044\tvalidation_1-rmse:1.32256\n",
            "[400]\tvalidation_0-rmse:0.85712\tvalidation_1-rmse:1.29973\n",
            "[0]\tvalidation_0-rmse:8.28905\tvalidation_1-rmse:3.04808\n",
            "[100]\tvalidation_0-rmse:4.14147\tvalidation_1-rmse:1.83340\n",
            "[200]\tvalidation_0-rmse:2.35440\tvalidation_1-rmse:1.48723\n",
            "[300]\tvalidation_0-rmse:1.39607\tvalidation_1-rmse:1.32760\n",
            "[400]\tvalidation_0-rmse:0.84213\tvalidation_1-rmse:1.24425\n",
            "[500]\tvalidation_0-rmse:0.51447\tvalidation_1-rmse:1.21044\n",
            "[600]\tvalidation_0-rmse:0.31797\tvalidation_1-rmse:1.19385\n",
            "[700]\tvalidation_0-rmse:0.20146\tvalidation_1-rmse:1.19130\n",
            "[800]\tvalidation_0-rmse:0.13367\tvalidation_1-rmse:1.18824\n",
            "[835]\tvalidation_0-rmse:0.11707\tvalidation_1-rmse:1.19272\n",
            "[0]\tvalidation_0-rmse:8.16564\tvalidation_1-rmse:2.75787\n",
            "[100]\tvalidation_0-rmse:4.08139\tvalidation_1-rmse:1.15874\n",
            "[200]\tvalidation_0-rmse:2.32201\tvalidation_1-rmse:0.49002\n",
            "[300]\tvalidation_0-rmse:1.37882\tvalidation_1-rmse:0.18107\n",
            "[400]\tvalidation_0-rmse:0.83403\tvalidation_1-rmse:0.16263\n",
            "[416]\tvalidation_0-rmse:0.77085\tvalidation_1-rmse:0.16952\n"
          ]
        }
      ]
    },
    {
      "cell_type": "code",
      "source": [],
      "metadata": {
        "id": "9Ka3LYdTAUVy"
      },
      "execution_count": null,
      "outputs": []
    }
  ],
  "metadata": {
    "kernelspec": {
      "display_name": "Python 3",
      "name": "python3"
    },
    "language_info": {
      "codemirror_mode": {
        "name": "ipython",
        "version": 3
      },
      "file_extension": ".py",
      "mimetype": "text/x-python",
      "name": "python",
      "nbconvert_exporter": "python",
      "pygments_lexer": "ipython3",
      "version": "3.10.14"
    },
    "colab": {
      "provenance": [],
      "machine_shape": "hm",
      "include_colab_link": true
    }
  },
  "nbformat": 4,
  "nbformat_minor": 0
}