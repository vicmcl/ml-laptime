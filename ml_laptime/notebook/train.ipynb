{
  "cells": [
    {
      "cell_type": "markdown",
      "metadata": {
        "id": "view-in-github",
        "colab_type": "text"
      },
      "source": [
        "<a href=\"https://colab.research.google.com/github/vicmcl/ml-laptime/blob/main/ml_laptime/notebook/train.ipynb\" target=\"_parent\"><img src=\"https://colab.research.google.com/assets/colab-badge.svg\" alt=\"Open In Colab\"/></a>"
      ]
    },
    {
      "cell_type": "code",
      "execution_count": 108,
      "metadata": {
        "id": "wmlNQe3BVS0a"
      },
      "outputs": [],
      "source": [
        "from pathlib import Path\n",
        "import os\n",
        "import glob\n",
        "import seaborn as sns\n",
        "import matplotlib.pyplot as plt\n",
        "import pandas as pd\n",
        "import pickle"
      ]
    },
    {
      "cell_type": "code",
      "execution_count": 2,
      "metadata": {
        "id": "cGenhBFjVS0c",
        "outputId": "8f1112f1-a1ea-4e6e-de33-1b570164c7c6",
        "colab": {
          "base_uri": "https://localhost:8080/"
        }
      },
      "outputs": [
        {
          "output_type": "stream",
          "name": "stdout",
          "text": [
            "Drive not mounted, so nothing to flush and unmount.\n",
            "Mounted at /content/drive\n"
          ]
        }
      ],
      "source": [
        "# Mount Drive\n",
        "from google.colab import drive\n",
        "\n",
        "drive.flush_and_unmount()\n",
        "drive.mount('/content/drive')\n",
        "DRIVE_PATH = Path(\"/content/drive/MyDrive/\")\n",
        "ML_PATH = DRIVE_PATH / \"Projects\" / \"laptime-simulation\""
      ]
    },
    {
      "cell_type": "code",
      "source": [
        "data_path = glob.glob(str(ML_PATH / \"races_*.pkl\"))"
      ],
      "metadata": {
        "id": "3XVKIZQTZAxf"
      },
      "execution_count": 3,
      "outputs": []
    },
    {
      "cell_type": "code",
      "source": [
        "pip install -q fastf1"
      ],
      "metadata": {
        "id": "U6koeM0VZPOy",
        "colab": {
          "base_uri": "https://localhost:8080/"
        },
        "outputId": "41d9aee5-40ee-46af-b31d-d3f33d798393"
      },
      "execution_count": 4,
      "outputs": [
        {
          "output_type": "stream",
          "name": "stdout",
          "text": [
            "\u001b[?25l   \u001b[90m━━━━━━━━━━━━━━━━━━━━━━━━━━━━━━━━━━━━━━━━\u001b[0m \u001b[32m0.0/148.3 kB\u001b[0m \u001b[31m?\u001b[0m eta \u001b[36m-:--:--\u001b[0m\r\u001b[2K   \u001b[90m━━━━━━━━━━━━━━━━━━━━━━━━━━━━━━━━━━━━━━━━\u001b[0m \u001b[32m148.3/148.3 kB\u001b[0m \u001b[31m11.2 MB/s\u001b[0m eta \u001b[36m0:00:00\u001b[0m\n",
            "\u001b[?25h\u001b[?25l   \u001b[90m━━━━━━━━━━━━━━━━━━━━━━━━━━━━━━━━━━━━━━━━\u001b[0m \u001b[32m0.0/61.4 kB\u001b[0m \u001b[31m?\u001b[0m eta \u001b[36m-:--:--\u001b[0m\r\u001b[2K   \u001b[90m━━━━━━━━━━━━━━━━━━━━━━━━━━━━━━━━━━━━━━━━\u001b[0m \u001b[32m61.4/61.4 kB\u001b[0m \u001b[31m2.6 MB/s\u001b[0m eta \u001b[36m0:00:00\u001b[0m\n",
            "\u001b[?25h\u001b[?25l   \u001b[90m━━━━━━━━━━━━━━━━━━━━━━━━━━━━━━━━━━━━━━━━\u001b[0m \u001b[32m0.0/130.2 kB\u001b[0m \u001b[31m?\u001b[0m eta \u001b[36m-:--:--\u001b[0m\r\u001b[2K   \u001b[90m━━━━━━━━━━━━━━━━━━━━━━━━━━━━━━━━━━━━━━━━\u001b[0m \u001b[32m130.2/130.2 kB\u001b[0m \u001b[31m9.9 MB/s\u001b[0m eta \u001b[36m0:00:00\u001b[0m\n",
            "\u001b[2K   \u001b[90m━━━━━━━━━━━━━━━━━━━━━━━━━━━━━━━━━━━━━━━━\u001b[0m \u001b[32m3.4/3.4 MB\u001b[0m \u001b[31m80.0 MB/s\u001b[0m eta \u001b[36m0:00:00\u001b[0m\n",
            "\u001b[2K   \u001b[90m━━━━━━━━━━━━━━━━━━━━━━━━━━━━━━━━━━━━━━━━\u001b[0m \u001b[32m57.5/57.5 kB\u001b[0m \u001b[31m5.4 MB/s\u001b[0m eta \u001b[36m0:00:00\u001b[0m\n",
            "\u001b[?25h"
          ]
        }
      ]
    },
    {
      "cell_type": "code",
      "source": [
        "data_path"
      ],
      "metadata": {
        "colab": {
          "base_uri": "https://localhost:8080/"
        },
        "id": "0kby4SUaaQy-",
        "outputId": "10c17bee-a323-4f1b-9273-72b64d960440"
      },
      "execution_count": null,
      "outputs": [
        {
          "output_type": "execute_result",
          "data": {
            "text/plain": [
              "['/content/drive/MyDrive/Projects/laptime-simulation/races_2021.pkl',\n",
              " '/content/drive/MyDrive/Projects/laptime-simulation/races_2020.pkl',\n",
              " '/content/drive/MyDrive/Projects/laptime-simulation/races_2019.pkl']"
            ]
          },
          "metadata": {},
          "execution_count": 6
        }
      ]
    },
    {
      "cell_type": "code",
      "source": [
        "data = {}\n",
        "with open(data_path[0], \"rb\") as f:\n",
        "    data[2021] = pickle.load(f)\n",
        "\n",
        "with open(data_path[1], \"rb\") as f:\n",
        "    data[2020] = pickle.load(f)\n",
        "\n",
        "with open(data_path[2], \"rb\") as f:\n",
        "    data[2019] = pickle.load(f)"
      ],
      "metadata": {
        "id": "uLlbdzOwZFqi"
      },
      "execution_count": 117,
      "outputs": []
    },
    {
      "cell_type": "code",
      "source": [
        "gp_list = data[2021].keys() & data[2020].keys() & data[2019].keys()\n",
        "gp_list"
      ],
      "metadata": {
        "colab": {
          "base_uri": "https://localhost:8080/"
        },
        "id": "NQkPSM8Y43O0",
        "outputId": "5e704e4a-3734-4a34-d012-e93f229f76bb"
      },
      "execution_count": 125,
      "outputs": [
        {
          "output_type": "execute_result",
          "data": {
            "text/plain": [
              "{'Abu Dhabi Grand Prix',\n",
              " 'Austrian Grand Prix',\n",
              " 'Bahrain Grand Prix',\n",
              " 'Belgian Grand Prix',\n",
              " 'Hungarian Grand Prix',\n",
              " 'Russian Grand Prix',\n",
              " 'Spanish Grand Prix'}"
            ]
          },
          "metadata": {},
          "execution_count": 125
        }
      ]
    },
    {
      "cell_type": "code",
      "source": [
        "columns_laps = [\n",
        "    'Time', 'LapNumber', 'Stint', 'SpeedI1', 'SpeedI2', 'SpeedFL', 'SpeedST',\n",
        "    'Compound', 'TyreLife', 'LapTime'\n",
        "]\n",
        "\n",
        "columns_telemetry = ['SessionTime', 'Throttle', 'Brake', 'DRS']\n",
        "\n",
        "columns_weather = ['Time', 'TrackTemp', 'WindSpeed']\n",
        "\n",
        "compound_map = {\n",
        "    'SOFT': 1.0,\n",
        "    'MEDIUM': 2.0,\n",
        "    'HARD': 3.0\n",
        "}"
      ],
      "metadata": {
        "id": "noxkFQJtjyA0"
      },
      "execution_count": 6,
      "outputs": []
    },
    {
      "cell_type": "code",
      "source": [
        "def process_lap_data(gp, year):\n",
        "    laps_data = data[year][gp]['laps'][columns_laps].copy()\n",
        "    laps_data['Season'] = year\n",
        "    laps_data = laps_data.reset_index().drop('index', axis=1)\n",
        "    laps_data['Compound'] = laps_data['Compound'].map(lambda x: compound_map.get(x, 0.0))\n",
        "    return laps_data"
      ],
      "metadata": {
        "id": "CHu8n406xaGn"
      },
      "execution_count": 7,
      "outputs": []
    },
    {
      "cell_type": "code",
      "source": [
        "def map_drs(drs):\n",
        "    if drs >= 10:\n",
        "        return True\n",
        "    else:\n",
        "        return False\n",
        "\n",
        "def process_telemetry_data(gp, year, laps):\n",
        "    telemetry_data = data[year][gp]['telemetry'][columns_telemetry].copy()\n",
        "    telemetry_with_laps = pd.merge_asof(\n",
        "        telemetry_data,\n",
        "        laps[['Time', 'LapNumber']],\n",
        "        left_on='SessionTime',\n",
        "        right_on='Time',\n",
        "        direction='forward'\n",
        "    ).drop('Time', axis=1)\n",
        "    telemetry_with_laps.loc[:, 'DRS'] = telemetry_with_laps['DRS'].map(map_drs)\n",
        "    telemetry_avg = telemetry_with_laps.groupby('LapNumber').mean()\n",
        "    return telemetry_avg"
      ],
      "metadata": {
        "id": "_rNbKG-R0RYA"
      },
      "execution_count": 8,
      "outputs": []
    },
    {
      "cell_type": "code",
      "source": [
        "def process_weather_data(gp, year):\n",
        "    weather_data = data[year][gp]['weather'][columns_weather].copy()\n",
        "    return weather_data"
      ],
      "metadata": {
        "id": "-kKzKlCt-vOO"
      },
      "execution_count": 9,
      "outputs": []
    },
    {
      "cell_type": "code",
      "source": [
        "def merge_data(laps, weather, telemetry):\n",
        "    merged_data = pd.merge_asof(laps, weather, on='Time', direction='nearest').set_index('LapNumber').drop('Time', axis=1)\n",
        "    merged_data = pd.concat([merged_data, telemetry], axis=1).reset_index()\n",
        "    merged_data = merged_data.drop('SessionTime', axis=1)\n",
        "    merged_data.loc[:, 'LapTime'] = merged_data['LapTime'].map(lambda x: x.total_seconds())\n",
        "    return merged_data"
      ],
      "metadata": {
        "id": "xceeFROu_dzg"
      },
      "execution_count": 10,
      "outputs": []
    },
    {
      "cell_type": "code",
      "source": [
        "def preprocess_data(gp, year):\n",
        "    laps = process_lap_data(gp, year)\n",
        "    weather = process_weather_data(gp, year)\n",
        "    telemetry = process_telemetry_data(gp, year, laps)\n",
        "    merged_data = merge_data(laps, weather, telemetry)\n",
        "    return merged_data"
      ],
      "metadata": {
        "id": "ty-tG8O9sE41"
      },
      "execution_count": 11,
      "outputs": []
    },
    {
      "cell_type": "code",
      "source": [
        "from sklearn.model_selection import train_test_split\n",
        "from sklearn.impute import SimpleImputer\n",
        "\n",
        "si = SimpleImputer()"
      ],
      "metadata": {
        "id": "_0LVCCq965j_"
      },
      "execution_count": 12,
      "outputs": []
    },
    {
      "cell_type": "code",
      "source": [
        "gp = 'Austrian Grand Prix'\n",
        "df = pd.DataFrame()\n",
        "\n",
        "for year in sorted(list(data.keys())):\n",
        "    prepro_data = preprocess_data(gp, year)\n",
        "    for col in prepro_data.columns:\n",
        "        prepro_data[col] = si.fit_transform(prepro_data[[col]])\n",
        "    df = pd.concat([df, prepro_data])\n",
        "\n",
        "df = df.reset_index(drop=True)\n",
        "df = df.dropna(subset='LapTime')\n",
        "\n",
        "df['LagLapTime'] = df['LapTime'].shift(1)\n",
        "df['RollingMeanLapTime'] = df['LapTime'].rolling(window=5).mean()"
      ],
      "metadata": {
        "id": "4DhEc85bFOjr"
      },
      "execution_count": 184,
      "outputs": []
    },
    {
      "cell_type": "code",
      "source": [
        "df.info()"
      ],
      "metadata": {
        "colab": {
          "base_uri": "https://localhost:8080/"
        },
        "id": "S3syklC2AYOv",
        "outputId": "73f57ba8-104e-48d8-86b6-65913d830ad3"
      },
      "execution_count": 185,
      "outputs": [
        {
          "output_type": "stream",
          "name": "stdout",
          "text": [
            "<class 'fastf1.core.Laps'>\n",
            "RangeIndex: 152 entries, 0 to 151\n",
            "Data columns (total 17 columns):\n",
            " #   Column              Non-Null Count  Dtype  \n",
            "---  ------              --------------  -----  \n",
            " 0   LapNumber           152 non-null    float64\n",
            " 1   Stint               152 non-null    float64\n",
            " 2   SpeedI1             152 non-null    float64\n",
            " 3   SpeedI2             152 non-null    float64\n",
            " 4   SpeedFL             152 non-null    float64\n",
            " 5   SpeedST             152 non-null    float64\n",
            " 6   Compound            152 non-null    float64\n",
            " 7   TyreLife            152 non-null    float64\n",
            " 8   LapTime             152 non-null    float64\n",
            " 9   Season              152 non-null    float64\n",
            " 10  TrackTemp           152 non-null    float64\n",
            " 11  WindSpeed           152 non-null    float64\n",
            " 12  Throttle            152 non-null    float64\n",
            " 13  Brake               152 non-null    float64\n",
            " 14  DRS                 152 non-null    float64\n",
            " 15  LagLapTime          151 non-null    float64\n",
            " 16  RollingMeanLapTime  148 non-null    float64\n",
            "dtypes: float64(17)\n",
            "memory usage: 20.3 KB\n"
          ]
        }
      ]
    },
    {
      "cell_type": "code",
      "source": [
        "df.head()"
      ],
      "metadata": {
        "colab": {
          "base_uri": "https://localhost:8080/",
          "height": 226
        },
        "id": "CkPfuRRLGaDE",
        "outputId": "b0ab7e5c-a2da-42f1-94d0-7ca6f77c2561"
      },
      "execution_count": 186,
      "outputs": [
        {
          "output_type": "execute_result",
          "data": {
            "text/plain": [
              "   LapNumber  Stint  SpeedI1  SpeedI2  SpeedFL  SpeedST  Compound  TyreLife  \\\n",
              "0        1.0    1.0    312.0    225.0    274.0    314.0       2.0       4.0   \n",
              "1        2.0    1.0    297.0    226.0    272.0    292.0       2.0       5.0   \n",
              "2        3.0    1.0    316.0    229.0    278.0    310.0       2.0       6.0   \n",
              "3        4.0    1.0    309.0    220.0    277.0    303.0       2.0       7.0   \n",
              "4        5.0    1.0    325.0    228.0    280.0    309.0       2.0       8.0   \n",
              "\n",
              "     LapTime  Season  TrackTemp  WindSpeed   Throttle     Brake       DRS  \\\n",
              "0  69.217043  2019.0       51.4        1.8  64.302405  0.207904  0.000000   \n",
              "1  71.495000  2019.0       51.0        1.8  67.629151  0.178967  0.000000   \n",
              "2  70.999000  2019.0       51.3        0.8  66.247672  0.191806  0.255121   \n",
              "3  71.100000  2019.0       51.2        1.2  64.897388  0.212687  0.292910   \n",
              "4  70.839000  2019.0       51.4        0.7  67.654784  0.210131  0.305816   \n",
              "\n",
              "   LagLapTime  RollingMeanLapTime  \n",
              "0         NaN                 NaN  \n",
              "1   69.217043                 NaN  \n",
              "2   71.495000                 NaN  \n",
              "3   70.999000                 NaN  \n",
              "4   71.100000           70.730009  "
            ],
            "text/html": [
              "\n",
              "  <div id=\"df-b12169fb-9a80-4e27-9648-cbd0db5013f4\" class=\"colab-df-container\">\n",
              "    <div>\n",
              "<style scoped>\n",
              "    .dataframe tbody tr th:only-of-type {\n",
              "        vertical-align: middle;\n",
              "    }\n",
              "\n",
              "    .dataframe tbody tr th {\n",
              "        vertical-align: top;\n",
              "    }\n",
              "\n",
              "    .dataframe thead th {\n",
              "        text-align: right;\n",
              "    }\n",
              "</style>\n",
              "<table border=\"1\" class=\"dataframe\">\n",
              "  <thead>\n",
              "    <tr style=\"text-align: right;\">\n",
              "      <th></th>\n",
              "      <th>LapNumber</th>\n",
              "      <th>Stint</th>\n",
              "      <th>SpeedI1</th>\n",
              "      <th>SpeedI2</th>\n",
              "      <th>SpeedFL</th>\n",
              "      <th>SpeedST</th>\n",
              "      <th>Compound</th>\n",
              "      <th>TyreLife</th>\n",
              "      <th>LapTime</th>\n",
              "      <th>Season</th>\n",
              "      <th>TrackTemp</th>\n",
              "      <th>WindSpeed</th>\n",
              "      <th>Throttle</th>\n",
              "      <th>Brake</th>\n",
              "      <th>DRS</th>\n",
              "      <th>LagLapTime</th>\n",
              "      <th>RollingMeanLapTime</th>\n",
              "    </tr>\n",
              "  </thead>\n",
              "  <tbody>\n",
              "    <tr>\n",
              "      <th>0</th>\n",
              "      <td>1.0</td>\n",
              "      <td>1.0</td>\n",
              "      <td>312.0</td>\n",
              "      <td>225.0</td>\n",
              "      <td>274.0</td>\n",
              "      <td>314.0</td>\n",
              "      <td>2.0</td>\n",
              "      <td>4.0</td>\n",
              "      <td>69.217043</td>\n",
              "      <td>2019.0</td>\n",
              "      <td>51.4</td>\n",
              "      <td>1.8</td>\n",
              "      <td>64.302405</td>\n",
              "      <td>0.207904</td>\n",
              "      <td>0.000000</td>\n",
              "      <td>NaN</td>\n",
              "      <td>NaN</td>\n",
              "    </tr>\n",
              "    <tr>\n",
              "      <th>1</th>\n",
              "      <td>2.0</td>\n",
              "      <td>1.0</td>\n",
              "      <td>297.0</td>\n",
              "      <td>226.0</td>\n",
              "      <td>272.0</td>\n",
              "      <td>292.0</td>\n",
              "      <td>2.0</td>\n",
              "      <td>5.0</td>\n",
              "      <td>71.495000</td>\n",
              "      <td>2019.0</td>\n",
              "      <td>51.0</td>\n",
              "      <td>1.8</td>\n",
              "      <td>67.629151</td>\n",
              "      <td>0.178967</td>\n",
              "      <td>0.000000</td>\n",
              "      <td>69.217043</td>\n",
              "      <td>NaN</td>\n",
              "    </tr>\n",
              "    <tr>\n",
              "      <th>2</th>\n",
              "      <td>3.0</td>\n",
              "      <td>1.0</td>\n",
              "      <td>316.0</td>\n",
              "      <td>229.0</td>\n",
              "      <td>278.0</td>\n",
              "      <td>310.0</td>\n",
              "      <td>2.0</td>\n",
              "      <td>6.0</td>\n",
              "      <td>70.999000</td>\n",
              "      <td>2019.0</td>\n",
              "      <td>51.3</td>\n",
              "      <td>0.8</td>\n",
              "      <td>66.247672</td>\n",
              "      <td>0.191806</td>\n",
              "      <td>0.255121</td>\n",
              "      <td>71.495000</td>\n",
              "      <td>NaN</td>\n",
              "    </tr>\n",
              "    <tr>\n",
              "      <th>3</th>\n",
              "      <td>4.0</td>\n",
              "      <td>1.0</td>\n",
              "      <td>309.0</td>\n",
              "      <td>220.0</td>\n",
              "      <td>277.0</td>\n",
              "      <td>303.0</td>\n",
              "      <td>2.0</td>\n",
              "      <td>7.0</td>\n",
              "      <td>71.100000</td>\n",
              "      <td>2019.0</td>\n",
              "      <td>51.2</td>\n",
              "      <td>1.2</td>\n",
              "      <td>64.897388</td>\n",
              "      <td>0.212687</td>\n",
              "      <td>0.292910</td>\n",
              "      <td>70.999000</td>\n",
              "      <td>NaN</td>\n",
              "    </tr>\n",
              "    <tr>\n",
              "      <th>4</th>\n",
              "      <td>5.0</td>\n",
              "      <td>1.0</td>\n",
              "      <td>325.0</td>\n",
              "      <td>228.0</td>\n",
              "      <td>280.0</td>\n",
              "      <td>309.0</td>\n",
              "      <td>2.0</td>\n",
              "      <td>8.0</td>\n",
              "      <td>70.839000</td>\n",
              "      <td>2019.0</td>\n",
              "      <td>51.4</td>\n",
              "      <td>0.7</td>\n",
              "      <td>67.654784</td>\n",
              "      <td>0.210131</td>\n",
              "      <td>0.305816</td>\n",
              "      <td>71.100000</td>\n",
              "      <td>70.730009</td>\n",
              "    </tr>\n",
              "  </tbody>\n",
              "</table>\n",
              "</div>\n",
              "    <div class=\"colab-df-buttons\">\n",
              "\n",
              "  <div class=\"colab-df-container\">\n",
              "    <button class=\"colab-df-convert\" onclick=\"convertToInteractive('df-b12169fb-9a80-4e27-9648-cbd0db5013f4')\"\n",
              "            title=\"Convert this dataframe to an interactive table.\"\n",
              "            style=\"display:none;\">\n",
              "\n",
              "  <svg xmlns=\"http://www.w3.org/2000/svg\" height=\"24px\" viewBox=\"0 -960 960 960\">\n",
              "    <path d=\"M120-120v-720h720v720H120Zm60-500h600v-160H180v160Zm220 220h160v-160H400v160Zm0 220h160v-160H400v160ZM180-400h160v-160H180v160Zm440 0h160v-160H620v160ZM180-180h160v-160H180v160Zm440 0h160v-160H620v160Z\"/>\n",
              "  </svg>\n",
              "    </button>\n",
              "\n",
              "  <style>\n",
              "    .colab-df-container {\n",
              "      display:flex;\n",
              "      gap: 12px;\n",
              "    }\n",
              "\n",
              "    .colab-df-convert {\n",
              "      background-color: #E8F0FE;\n",
              "      border: none;\n",
              "      border-radius: 50%;\n",
              "      cursor: pointer;\n",
              "      display: none;\n",
              "      fill: #1967D2;\n",
              "      height: 32px;\n",
              "      padding: 0 0 0 0;\n",
              "      width: 32px;\n",
              "    }\n",
              "\n",
              "    .colab-df-convert:hover {\n",
              "      background-color: #E2EBFA;\n",
              "      box-shadow: 0px 1px 2px rgba(60, 64, 67, 0.3), 0px 1px 3px 1px rgba(60, 64, 67, 0.15);\n",
              "      fill: #174EA6;\n",
              "    }\n",
              "\n",
              "    .colab-df-buttons div {\n",
              "      margin-bottom: 4px;\n",
              "    }\n",
              "\n",
              "    [theme=dark] .colab-df-convert {\n",
              "      background-color: #3B4455;\n",
              "      fill: #D2E3FC;\n",
              "    }\n",
              "\n",
              "    [theme=dark] .colab-df-convert:hover {\n",
              "      background-color: #434B5C;\n",
              "      box-shadow: 0px 1px 3px 1px rgba(0, 0, 0, 0.15);\n",
              "      filter: drop-shadow(0px 1px 2px rgba(0, 0, 0, 0.3));\n",
              "      fill: #FFFFFF;\n",
              "    }\n",
              "  </style>\n",
              "\n",
              "    <script>\n",
              "      const buttonEl =\n",
              "        document.querySelector('#df-b12169fb-9a80-4e27-9648-cbd0db5013f4 button.colab-df-convert');\n",
              "      buttonEl.style.display =\n",
              "        google.colab.kernel.accessAllowed ? 'block' : 'none';\n",
              "\n",
              "      async function convertToInteractive(key) {\n",
              "        const element = document.querySelector('#df-b12169fb-9a80-4e27-9648-cbd0db5013f4');\n",
              "        const dataTable =\n",
              "          await google.colab.kernel.invokeFunction('convertToInteractive',\n",
              "                                                    [key], {});\n",
              "        if (!dataTable) return;\n",
              "\n",
              "        const docLinkHtml = 'Like what you see? Visit the ' +\n",
              "          '<a target=\"_blank\" href=https://colab.research.google.com/notebooks/data_table.ipynb>data table notebook</a>'\n",
              "          + ' to learn more about interactive tables.';\n",
              "        element.innerHTML = '';\n",
              "        dataTable['output_type'] = 'display_data';\n",
              "        await google.colab.output.renderOutput(dataTable, element);\n",
              "        const docLink = document.createElement('div');\n",
              "        docLink.innerHTML = docLinkHtml;\n",
              "        element.appendChild(docLink);\n",
              "      }\n",
              "    </script>\n",
              "  </div>\n",
              "\n",
              "\n",
              "<div id=\"df-98eca366-042f-4c88-8451-9aade03f7b97\">\n",
              "  <button class=\"colab-df-quickchart\" onclick=\"quickchart('df-98eca366-042f-4c88-8451-9aade03f7b97')\"\n",
              "            title=\"Suggest charts\"\n",
              "            style=\"display:none;\">\n",
              "\n",
              "<svg xmlns=\"http://www.w3.org/2000/svg\" height=\"24px\"viewBox=\"0 0 24 24\"\n",
              "     width=\"24px\">\n",
              "    <g>\n",
              "        <path d=\"M19 3H5c-1.1 0-2 .9-2 2v14c0 1.1.9 2 2 2h14c1.1 0 2-.9 2-2V5c0-1.1-.9-2-2-2zM9 17H7v-7h2v7zm4 0h-2V7h2v10zm4 0h-2v-4h2v4z\"/>\n",
              "    </g>\n",
              "</svg>\n",
              "  </button>\n",
              "\n",
              "<style>\n",
              "  .colab-df-quickchart {\n",
              "      --bg-color: #E8F0FE;\n",
              "      --fill-color: #1967D2;\n",
              "      --hover-bg-color: #E2EBFA;\n",
              "      --hover-fill-color: #174EA6;\n",
              "      --disabled-fill-color: #AAA;\n",
              "      --disabled-bg-color: #DDD;\n",
              "  }\n",
              "\n",
              "  [theme=dark] .colab-df-quickchart {\n",
              "      --bg-color: #3B4455;\n",
              "      --fill-color: #D2E3FC;\n",
              "      --hover-bg-color: #434B5C;\n",
              "      --hover-fill-color: #FFFFFF;\n",
              "      --disabled-bg-color: #3B4455;\n",
              "      --disabled-fill-color: #666;\n",
              "  }\n",
              "\n",
              "  .colab-df-quickchart {\n",
              "    background-color: var(--bg-color);\n",
              "    border: none;\n",
              "    border-radius: 50%;\n",
              "    cursor: pointer;\n",
              "    display: none;\n",
              "    fill: var(--fill-color);\n",
              "    height: 32px;\n",
              "    padding: 0;\n",
              "    width: 32px;\n",
              "  }\n",
              "\n",
              "  .colab-df-quickchart:hover {\n",
              "    background-color: var(--hover-bg-color);\n",
              "    box-shadow: 0 1px 2px rgba(60, 64, 67, 0.3), 0 1px 3px 1px rgba(60, 64, 67, 0.15);\n",
              "    fill: var(--button-hover-fill-color);\n",
              "  }\n",
              "\n",
              "  .colab-df-quickchart-complete:disabled,\n",
              "  .colab-df-quickchart-complete:disabled:hover {\n",
              "    background-color: var(--disabled-bg-color);\n",
              "    fill: var(--disabled-fill-color);\n",
              "    box-shadow: none;\n",
              "  }\n",
              "\n",
              "  .colab-df-spinner {\n",
              "    border: 2px solid var(--fill-color);\n",
              "    border-color: transparent;\n",
              "    border-bottom-color: var(--fill-color);\n",
              "    animation:\n",
              "      spin 1s steps(1) infinite;\n",
              "  }\n",
              "\n",
              "  @keyframes spin {\n",
              "    0% {\n",
              "      border-color: transparent;\n",
              "      border-bottom-color: var(--fill-color);\n",
              "      border-left-color: var(--fill-color);\n",
              "    }\n",
              "    20% {\n",
              "      border-color: transparent;\n",
              "      border-left-color: var(--fill-color);\n",
              "      border-top-color: var(--fill-color);\n",
              "    }\n",
              "    30% {\n",
              "      border-color: transparent;\n",
              "      border-left-color: var(--fill-color);\n",
              "      border-top-color: var(--fill-color);\n",
              "      border-right-color: var(--fill-color);\n",
              "    }\n",
              "    40% {\n",
              "      border-color: transparent;\n",
              "      border-right-color: var(--fill-color);\n",
              "      border-top-color: var(--fill-color);\n",
              "    }\n",
              "    60% {\n",
              "      border-color: transparent;\n",
              "      border-right-color: var(--fill-color);\n",
              "    }\n",
              "    80% {\n",
              "      border-color: transparent;\n",
              "      border-right-color: var(--fill-color);\n",
              "      border-bottom-color: var(--fill-color);\n",
              "    }\n",
              "    90% {\n",
              "      border-color: transparent;\n",
              "      border-bottom-color: var(--fill-color);\n",
              "    }\n",
              "  }\n",
              "</style>\n",
              "\n",
              "  <script>\n",
              "    async function quickchart(key) {\n",
              "      const quickchartButtonEl =\n",
              "        document.querySelector('#' + key + ' button');\n",
              "      quickchartButtonEl.disabled = true;  // To prevent multiple clicks.\n",
              "      quickchartButtonEl.classList.add('colab-df-spinner');\n",
              "      try {\n",
              "        const charts = await google.colab.kernel.invokeFunction(\n",
              "            'suggestCharts', [key], {});\n",
              "      } catch (error) {\n",
              "        console.error('Error during call to suggestCharts:', error);\n",
              "      }\n",
              "      quickchartButtonEl.classList.remove('colab-df-spinner');\n",
              "      quickchartButtonEl.classList.add('colab-df-quickchart-complete');\n",
              "    }\n",
              "    (() => {\n",
              "      let quickchartButtonEl =\n",
              "        document.querySelector('#df-98eca366-042f-4c88-8451-9aade03f7b97 button');\n",
              "      quickchartButtonEl.style.display =\n",
              "        google.colab.kernel.accessAllowed ? 'block' : 'none';\n",
              "    })();\n",
              "  </script>\n",
              "</div>\n",
              "\n",
              "    </div>\n",
              "  </div>\n"
            ],
            "application/vnd.google.colaboratory.intrinsic+json": {
              "type": "dataframe",
              "variable_name": "df",
              "summary": "{\n  \"name\": \"df\",\n  \"rows\": 152,\n  \"fields\": [\n    {\n      \"column\": \"LapNumber\",\n      \"properties\": {\n        \"dtype\": \"number\",\n        \"std\": 21.285351338335364,\n        \"min\": 1.0,\n        \"max\": 71.0,\n        \"num_unique_values\": 71,\n        \"samples\": [\n          23.0,\n          1.0,\n          50.0\n        ],\n        \"semantic_type\": \"\",\n        \"description\": \"\"\n      }\n    },\n    {\n      \"column\": \"Stint\",\n      \"properties\": {\n        \"dtype\": \"number\",\n        \"std\": 0.6235474581416375,\n        \"min\": 1.0,\n        \"max\": 3.0,\n        \"num_unique_values\": 3,\n        \"samples\": [\n          1.0,\n          2.0,\n          3.0\n        ],\n        \"semantic_type\": \"\",\n        \"description\": \"\"\n      }\n    },\n    {\n      \"column\": \"SpeedI1\",\n      \"properties\": {\n        \"dtype\": \"number\",\n        \"std\": 24.850275259487727,\n        \"min\": 96.0,\n        \"max\": 327.0,\n        \"num_unique_values\": 44,\n        \"samples\": [\n          293.6,\n          275.0,\n          296.0\n        ],\n        \"semantic_type\": \"\",\n        \"description\": \"\"\n      }\n    },\n    {\n      \"column\": \"SpeedI2\",\n      \"properties\": {\n        \"dtype\": \"number\",\n        \"std\": 13.955811793525747,\n        \"min\": 120.0,\n        \"max\": 246.0,\n        \"num_unique_values\": 23,\n        \"samples\": [\n          239.0,\n          233.0,\n          225.0\n        ],\n        \"semantic_type\": \"\",\n        \"description\": \"\"\n      }\n    },\n    {\n      \"column\": \"SpeedFL\",\n      \"properties\": {\n        \"dtype\": \"number\",\n        \"std\": 10.959101652178726,\n        \"min\": 184.0,\n        \"max\": 288.0,\n        \"num_unique_values\": 28,\n        \"samples\": [\n          275.0,\n          286.0,\n          270.0\n        ],\n        \"semantic_type\": \"\",\n        \"description\": \"\"\n      }\n    },\n    {\n      \"column\": \"SpeedST\",\n      \"properties\": {\n        \"dtype\": \"number\",\n        \"std\": 19.108821156969952,\n        \"min\": 143.0,\n        \"max\": 319.0,\n        \"num_unique_values\": 36,\n        \"samples\": [\n          311.0,\n          290.0,\n          299.0\n        ],\n        \"semantic_type\": \"\",\n        \"description\": \"\"\n      }\n    },\n    {\n      \"column\": \"Compound\",\n      \"properties\": {\n        \"dtype\": \"number\",\n        \"std\": 0.5012619140212428,\n        \"min\": 2.0,\n        \"max\": 3.0,\n        \"num_unique_values\": 2,\n        \"samples\": [\n          3.0,\n          2.0\n        ],\n        \"semantic_type\": \"\",\n        \"description\": \"\"\n      }\n    },\n    {\n      \"column\": \"TyreLife\",\n      \"properties\": {\n        \"dtype\": \"number\",\n        \"std\": 10.064544229137152,\n        \"min\": 1.0,\n        \"max\": 40.0,\n        \"num_unique_values\": 40,\n        \"samples\": [\n          23.0,\n          20.0\n        ],\n        \"semantic_type\": \"\",\n        \"description\": \"\"\n      }\n    },\n    {\n      \"column\": \"LapTime\",\n      \"properties\": {\n        \"dtype\": \"number\",\n        \"std\": 8.131413156440537,\n        \"min\": 66.2,\n        \"max\": 138.665,\n        \"num_unique_values\": 148,\n        \"samples\": [\n          68.86,\n          68.413\n        ],\n        \"semantic_type\": \"\",\n        \"description\": \"\"\n      }\n    },\n    {\n      \"column\": \"Season\",\n      \"properties\": {\n        \"dtype\": \"number\",\n        \"std\": 0.969740867960806,\n        \"min\": 2019.0,\n        \"max\": 2021.0,\n        \"num_unique_values\": 3,\n        \"samples\": [\n          2019.0,\n          2020.0\n        ],\n        \"semantic_type\": \"\",\n        \"description\": \"\"\n      }\n    },\n    {\n      \"column\": \"TrackTemp\",\n      \"properties\": {\n        \"dtype\": \"number\",\n        \"std\": 8.198442731861059,\n        \"min\": 33.8,\n        \"max\": 55.1,\n        \"num_unique_values\": 48,\n        \"samples\": [\n          53.2,\n          35.4\n        ],\n        \"semantic_type\": \"\",\n        \"description\": \"\"\n      }\n    },\n    {\n      \"column\": \"WindSpeed\",\n      \"properties\": {\n        \"dtype\": \"number\",\n        \"std\": 0.6150003471365207,\n        \"min\": 0.0,\n        \"max\": 3.2,\n        \"num_unique_values\": 28,\n        \"samples\": [\n          1.6,\n          0.3\n        ],\n        \"semantic_type\": \"\",\n        \"description\": \"\"\n      }\n    },\n    {\n      \"column\": \"Throttle\",\n      \"properties\": {\n        \"dtype\": \"number\",\n        \"std\": 7.394981962517008,\n        \"min\": 16.75328947368421,\n        \"max\": 100.0,\n        \"num_unique_values\": 151,\n        \"samples\": [\n          100.0,\n          70.32375478927203\n        ],\n        \"semantic_type\": \"\",\n        \"description\": \"\"\n      }\n    },\n    {\n      \"column\": \"Brake\",\n      \"properties\": {\n        \"dtype\": \"number\",\n        \"std\": 0.0395908042985374,\n        \"min\": 0.0,\n        \"max\": 0.5674342105263158,\n        \"num_unique_values\": 140,\n        \"samples\": [\n          0.1593959731543624,\n          0.16764132553606237\n        ],\n        \"semantic_type\": \"\",\n        \"description\": \"\"\n      }\n    },\n    {\n      \"column\": \"DRS\",\n      \"properties\": {\n        \"dtype\": \"number\",\n        \"std\": 0.09179669668381246,\n        \"min\": 0.0,\n        \"max\": 0.31238095238095237,\n        \"num_unique_values\": 38,\n        \"samples\": [\n          0.04873949579831933,\n          0.08221024258760108\n        ],\n        \"semantic_type\": \"\",\n        \"description\": \"\"\n      }\n    },\n    {\n      \"column\": \"LagLapTime\",\n      \"properties\": {\n        \"dtype\": \"number\",\n        \"std\": 8.15525918462638,\n        \"min\": 66.2,\n        \"max\": 138.665,\n        \"num_unique_values\": 147,\n        \"samples\": [\n          68.86,\n          68.413\n        ],\n        \"semantic_type\": \"\",\n        \"description\": \"\"\n      }\n    },\n    {\n      \"column\": \"RollingMeanLapTime\",\n      \"properties\": {\n        \"dtype\": \"number\",\n        \"std\": 5.634926329851544,\n        \"min\": 67.69500000000001,\n        \"max\": 105.0384,\n        \"num_unique_values\": 148,\n        \"samples\": [\n          68.9402,\n          68.421\n        ],\n        \"semantic_type\": \"\",\n        \"description\": \"\"\n      }\n    }\n  ]\n}"
            }
          },
          "metadata": {},
          "execution_count": 186
        }
      ]
    },
    {
      "cell_type": "code",
      "source": [
        "df_train, df_test = df.iloc[:-20], df.iloc[-20:]"
      ],
      "metadata": {
        "id": "Fw599b4oByF9"
      },
      "execution_count": 187,
      "outputs": []
    },
    {
      "cell_type": "code",
      "source": [
        "from sklearn.model_selection import TimeSeriesSplit\n",
        "\n",
        "tss = TimeSeriesSplit(n_splits=5, test_size=5)\n",
        "\n",
        "fig, axs = plt.subplots(5, 1, figsize=(15, 10), sharex=True)\n",
        "fold = 0\n",
        "for train_idx, val_idx in tss.split(df_train):\n",
        "    train = df_train.loc[train_idx]\n",
        "    val = df_train.loc[val_idx]\n",
        "    train['LapTime'].plot(ax=axs[fold], label='train')\n",
        "    val['LapTime'].plot(ax=axs[fold], label='val')\n",
        "    axs[fold].legend()\n",
        "    fold += 1\n",
        "plt.tight_layout()\n",
        "plt.show()"
      ],
      "metadata": {
        "colab": {
          "base_uri": "https://localhost:8080/",
          "height": 890
        },
        "id": "4iNVrZKzmAia",
        "outputId": "81e1549e-52bd-4964-8fbd-aaf0bb7ef072"
      },
      "execution_count": 188,
      "outputs": [
        {
          "output_type": "display_data",
          "data": {
            "text/plain": [
              "<Figure size 1500x1000 with 5 Axes>"
            ],
            "image/png": "[encoded data removed]"
          },
          "metadata": {}
        }
      ]
    },
    {
      "cell_type": "code",
      "source": [
        "def select_speed_trap(data):\n",
        "    corr = data[['LapTime', 'SpeedI1', 'SpeedI2', 'SpeedFL', 'SpeedST']].corr()\n",
        "    speed_trap = corr['LapTime'].iloc[1:].abs().idxmax()\n",
        "    return speed_trap\n",
        "\n",
        "def filter_speed_trap(data, speed_trap):\n",
        "    data = data.drop([speed for speed in ['SpeedI1', 'SpeedI2', 'SpeedFL', 'SpeedST'] if speed != speed_trap], axis=1)\n",
        "    data = data.rename(columns={speed_trap: 'SpeedTrap'})\n",
        "    return data"
      ],
      "metadata": {
        "id": "iJmKd5bnCtzn"
      },
      "execution_count": 91,
      "outputs": []
    },
    {
      "cell_type": "code",
      "source": [
        "for train_idx, val_idx in tss.split(df_train):\n",
        "    break\n",
        "\n",
        "speed_trap = select_speed_trap(df_train.loc[train_idx])\n",
        "\n",
        "df_train = filter_speed_trap(df_train, speed_trap)\n",
        "df_test = filter_speed_trap(df_test, speed_trap)"
      ],
      "metadata": {
        "id": "bDYSgWGvokz5"
      },
      "execution_count": 189,
      "outputs": []
    },
    {
      "cell_type": "code",
      "source": [
        "FEATURES = list(df_train.columns)\n",
        "FEATURES.remove('LapTime')\n",
        "TARGET = 'LapTime'"
      ],
      "metadata": {
        "id": "9EVYLpPO8Rdj"
      },
      "execution_count": 192,
      "outputs": []
    },
    {
      "cell_type": "code",
      "source": [
        "FEATURES"
      ],
      "metadata": {
        "id": "eSWKQntvCwX7",
        "outputId": "8549a53b-8658-4570-bef5-260788676700",
        "colab": {
          "base_uri": "https://localhost:8080/"
        }
      },
      "execution_count": 193,
      "outputs": [
        {
          "output_type": "execute_result",
          "data": {
            "text/plain": [
              "['LapNumber',\n",
              " 'Stint',\n",
              " 'SpeedTrap',\n",
              " 'Compound',\n",
              " 'TyreLife',\n",
              " 'Season',\n",
              " 'TrackTemp',\n",
              " 'WindSpeed',\n",
              " 'Throttle',\n",
              " 'Brake',\n",
              " 'DRS',\n",
              " 'LagLapTime',\n",
              " 'RollingMeanLapTime']"
            ]
          },
          "metadata": {},
          "execution_count": 193
        }
      ]
    },
    {
      "cell_type": "code",
      "source": [
        "from xgboost import XGBRegressor\n",
        "from sklearn.metrics import mean_squared_error\n",
        "\n",
        "preds = []\n",
        "scores = []\n",
        "\n",
        "for train_idx, val_idx in tss.split(df_train):\n",
        "    X_train, y_train = df_train.loc[train_idx, FEATURES], df_train.loc[train_idx, TARGET]\n",
        "    X_val, y_val = df_train.loc[val_idx, FEATURES], df_train.loc[val_idx, TARGET]\n",
        "\n",
        "    model = XGBRegressor(\n",
        "        n_estimators=1000,\n",
        "        learning_rate=0.05,\n",
        "        max_depth=5,\n",
        "        early_stopping_rounds=50,\n",
        "        random_state=42\n",
        "    )\n",
        "\n",
        "    model.fit(\n",
        "        X_train, y_train,\n",
        "        eval_set=[(X_train, y_train), (X_val, y_val)],\n",
        "        verbose=100\n",
        "    )\n",
        "\n",
        "    y_pred = model.predict(X_val)\n",
        "    preds.append(y_pred)\n",
        "    score = mean_squared_error(y_val, y_pred, squared=False)\n",
        "    scores.append(score)"
      ],
      "metadata": {
        "colab": {
          "base_uri": "https://localhost:8080/"
        },
        "id": "m3VPWbtqsua4",
        "outputId": "ccd3598d-d5fe-423c-93e5-37e7bc67c32b"
      },
      "execution_count": 195,
      "outputs": [
        {
          "output_type": "stream",
          "name": "stdout",
          "text": [
            "[0]\tvalidation_0-rmse:9.00308\tvalidation_1-rmse:1.46738\n",
            "[100]\tvalidation_0-rmse:0.56272\tvalidation_1-rmse:0.15554\n",
            "[105]\tvalidation_0-rmse:0.49735\tvalidation_1-rmse:0.15220\n",
            "[0]\tvalidation_0-rmse:8.80535\tvalidation_1-rmse:6.57689\n",
            "[100]\tvalidation_0-rmse:0.55137\tvalidation_1-rmse:1.41931\n",
            "[200]\tvalidation_0-rmse:0.06785\tvalidation_1-rmse:1.32228\n",
            "[300]\tvalidation_0-rmse:0.02091\tvalidation_1-rmse:1.30195\n",
            "[400]\tvalidation_0-rmse:0.00573\tvalidation_1-rmse:1.29965\n",
            "[419]\tvalidation_0-rmse:0.00480\tvalidation_1-rmse:1.30024\n",
            "[0]\tvalidation_0-rmse:8.71817\tvalidation_1-rmse:2.06564\n",
            "[100]\tvalidation_0-rmse:0.53597\tvalidation_1-rmse:0.89359\n",
            "[200]\tvalidation_0-rmse:0.06635\tvalidation_1-rmse:0.86574\n",
            "[300]\tvalidation_0-rmse:0.02139\tvalidation_1-rmse:0.86277\n",
            "[0]\tvalidation_0-rmse:8.54781\tvalidation_1-rmse:1.91456\n",
            "[88]\tvalidation_0-rmse:0.70856\tvalidation_1-rmse:1.41749\n",
            "[0]\tvalidation_0-rmse:8.38614\tvalidation_1-rmse:2.06520\n",
            "[100]\tvalidation_0-rmse:0.51665\tvalidation_1-rmse:0.34530\n",
            "[177]\tvalidation_0-rmse:0.09565\tvalidation_1-rmse:0.35747\n"
          ]
        }
      ]
    },
    {
      "cell_type": "code",
      "source": [],
      "metadata": {
        "id": "9Ka3LYdTAUVy"
      },
      "execution_count": null,
      "outputs": []
    }
  ],
  "metadata": {
    "kernelspec": {
      "display_name": "Python 3",
      "name": "python3"
    },
    "language_info": {
      "codemirror_mode": {
        "name": "ipython",
        "version": 3
      },
      "file_extension": ".py",
      "mimetype": "text/x-python",
      "name": "python",
      "nbconvert_exporter": "python",
      "pygments_lexer": "ipython3",
      "version": "3.10.14"
    },
    "colab": {
      "provenance": [],
      "machine_shape": "hm",
      "include_colab_link": true
    }
  },
  "nbformat": 4,
  "nbformat_minor": 0
}