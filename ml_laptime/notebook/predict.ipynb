{
 "cells": [
  {
   "cell_type": "code",
   "execution_count": null,
   "metadata": {},
   "outputs": [],
   "source": [
    "from pathlib import Path\n",
    "import os\n",
    "import glob"
   ]
  },
  {
   "cell_type": "code",
   "execution_count": null,
   "metadata": {},
   "outputs": [],
   "source": [
    "from google.colab import drive\n",
    "\n",
    "drive.flush_and_unmount()\n",
    "drive.mount('/content/drive')\n",
    "DRIVE_PATH = Path(\"/content/drive/MyDrive/\")\n",
    "ML_PATH = DRIVE_PATH / \"Projects\" / \"laptime-simulation\""
   ]
  }
 ],
 "metadata": {
  "language_info": {
   "name": "python"
  }
 },
 "nbformat": 4,
 "nbformat_minor": 2
}
